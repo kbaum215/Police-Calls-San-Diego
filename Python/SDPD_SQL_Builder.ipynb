{
 "cells": [
  {
   "cell_type": "markdown",
   "id": "50739998",
   "metadata": {},
   "source": [
    "![USD](usd.png)"
   ]
  },
  {
   "cell_type": "code",
   "execution_count": 52,
   "id": "d33740d0",
   "metadata": {},
   "outputs": [],
   "source": [
    "#Library\n",
    "import mysql.connector\n",
    "from mysql.connector import errorcode"
   ]
  },
  {
   "cell_type": "markdown",
   "id": "5409bdfc",
   "metadata": {},
   "source": [
    "# Initial Connection"
   ]
  },
  {
   "cell_type": "code",
   "execution_count": 53,
   "id": "5594a0db",
   "metadata": {},
   "outputs": [],
   "source": [
    "user = 'root'\n",
    "password = 'XXXXX'\n",
    "host = 'localhost'\n"
   ]
  },
  {
   "cell_type": "code",
   "execution_count": 54,
   "id": "cea5b572",
   "metadata": {},
   "outputs": [],
   "source": [
    "#Database\n",
    "database = 'San_Diego_PD_Calls'"
   ]
  },
  {
   "cell_type": "code",
   "execution_count": 55,
   "id": "8f1e0481",
   "metadata": {},
   "outputs": [],
   "source": [
    "user = 'admin'\n",
    "password = 'XXXXXXX'\n",
    "host = 'sdpd.chck20ykciaw.us-west-2.rds.amazonaws.com'\n"
   ]
  },
  {
   "cell_type": "code",
   "execution_count": 56,
   "id": "9e84bef3",
   "metadata": {},
   "outputs": [],
   "source": [
    "#Database\n",
    "database = 'sdpd'"
   ]
  },
  {
   "cell_type": "code",
   "execution_count": 57,
   "id": "7c6349d2",
   "metadata": {},
   "outputs": [],
   "source": [
    "#Initial Connection\n",
    "cnx = mysql.connector.connect(user=user,\n",
    "                              password=password,\n",
    "                              host=host,\n",
    "                              )\n",
    "cursor = cnx.cursor()"
   ]
  },
  {
   "cell_type": "markdown",
   "id": "b859061e",
   "metadata": {},
   "source": [
    "# Drop if necessary"
   ]
  },
  {
   "cell_type": "code",
   "execution_count": 58,
   "id": "fb682616",
   "metadata": {},
   "outputs": [],
   "source": [
    "#Drop DB\n",
    "#mycursor = cnx.cursor()\n",
    "#mycursor.execute(\"DROP DATABASE \" + database)\n"
   ]
  },
  {
   "cell_type": "markdown",
   "id": "b90e3cd4",
   "metadata": {},
   "source": [
    "# DB Setup"
   ]
  },
  {
   "cell_type": "code",
   "execution_count": 59,
   "id": "72aa2845",
   "metadata": {},
   "outputs": [
    {
     "name": "stdout",
     "output_type": "stream",
     "text": [
      "Using sdpd\n"
     ]
    }
   ],
   "source": [
    "def Create_DB(cursor):\n",
    "    try:\n",
    "        cursor.execute(\n",
    "            \"CREATE DATABASE {} DEFAULT CHARACTER SET 'utf8'\".format(database))\n",
    "    except mysql.connector.Error as err:\n",
    "        print(\"Failed creating database: {}\".format(err))\n",
    "        exit(1)\n",
    "\n",
    "try:\n",
    "    cursor.execute(\"USE {}\".format(database))\n",
    "    print(\"Using {}\".format(database))\n",
    "except mysql.connector.Error as err:\n",
    "    print(\"Database {} does not exists. Will Create\".format(database))\n",
    "    if err.errno == errorcode.ER_BAD_DB_ERROR:\n",
    "        Create_DB(cursor)\n",
    "        print(\"Database {} created successfully.\".format(database))\n",
    "        cnx.database = database\n",
    "    else:\n",
    "        print(err)\n",
    "        exit(1)"
   ]
  },
  {
   "cell_type": "markdown",
   "id": "63f054b1",
   "metadata": {},
   "source": [
    "# Tables"
   ]
  },
  {
   "cell_type": "markdown",
   "id": "75bea234",
   "metadata": {},
   "source": [
    "TABLES['Days'] = (\n",
    "    \"CREATE TABLE `Days` (\"\n",
    "    \"  `day_of_week` enum('1','2','3','4','5','6','7') NOT NULL,\"\n",
    "    \"  `day` varchar(9) NOT NULL,\"\n",
    "    \"  PRIMARY KEY (`day_of_week`)\"\n",
    "    \") \")"
   ]
  },
  {
   "cell_type": "code",
   "execution_count": 60,
   "id": "1543a6ab",
   "metadata": {},
   "outputs": [],
   "source": [
    "#Tables\n",
    "\n",
    "#initiate dictionary\n",
    "TABLES = {}\n",
    "\n",
    "#Add tables\n",
    "TABLES['Beats'] = (\n",
    "    \"CREATE TABLE `beats` (\"\n",
    "    \"  `beat` smallint NOT NULL,\"\n",
    "    \"  `neighborhood` varchar(25) NOT NULL,\"\n",
    "    \"  PRIMARY KEY (`beat`), UNIQUE KEY `neighborhood` (`neighborhood`)\"\n",
    "    \") \")\n",
    "\n",
    "TABLES['Dispositions'] = (\n",
    "    \"CREATE TABLE `dispositions` (\"\n",
    "    \"  `dispo_code` varchar(3) NOT NULL,\"\n",
    "    \"  `description` tinytext NOT NULL,\"\n",
    "    \"  PRIMARY KEY (`dispo_code`)\"\n",
    "    \") \")\n",
    "\n",
    "TABLES['Call_type'] = (\n",
    "    \"CREATE TABLE `call_types` (\"\n",
    "    \"  `call_type` varchar(10) NULL,\"\n",
    "    \"  `description` tinytext NOT NULL\"\n",
    "    \") \")\n",
    "\n",
    "TABLES['ServiceCalls'] = (\n",
    "    \"CREATE TABLE `service_calls` (\"\n",
    "    \"  `incident_num` varchar(13) NOT NULL,\"\n",
    "    \"  `incident_date_time` datetime NOT NULL,\"\n",
    "    \"  `call_type` varchar(10) NULL,\"\n",
    "    \"  `dispo_code` varchar(3) NULL,\"\n",
    "    \"  `beat` smallint NOT NULL,\"\n",
    "    \"  `priority` tinyint NOT NULL,\"\n",
    "    \"  `incident_year` year NOT NULL,\"\n",
    "    \"  PRIMARY KEY (`incident_num`),\"\n",
    "    \"  CONSTRAINT `service_calls_beat` FOREIGN KEY (`beat`)\"\n",
    "    \"     REFERENCES `beats` (`beat`),\"\n",
    "    \"  CONSTRAINT `service_calls_dispo` FOREIGN KEY (`dispo_code`)\"\n",
    "    \"     REFERENCES `dispositions` (`dispo_code`)\"\n",
    "    \") \")\n",
    "\n",
    "TABLES['Address'] = (\n",
    "    \"CREATE TABLE `address` (\"\n",
    "    \"  `incident_num` varchar(13) NOT NULL,\"\n",
    "    \"  `address_number_primary` int(8)  NULL,\"\n",
    "    \"  `address_dir_primary` varchar(10)  NULL,\"\n",
    "    \"  `address_road_primary` varchar(40) NULL,\"\n",
    "    \"  `address_sfx_primary` varchar(10) NULL,\"\n",
    "    \"  `address_dir_intersecting` varchar(10) NULL,\"\n",
    "    \"  `address_road_intersecting` varchar(40) NULL,\"\n",
    "    \"  `address_sfx_intersecting` varchar(10) NULL,\"\n",
    "    \"  `address` varchar(80) NOT NULL,\"\n",
    "    \"  PRIMARY KEY (`incident_num`),\"\n",
    "    \"  CONSTRAINT `address_ibfk_1` FOREIGN KEY (`incident_num`)\"\n",
    "    \"     REFERENCES `service_calls` (`incident_num`)\"\n",
    "    \") \")\n",
    "\n",
    "TABLES['GeoLocations'] = (\n",
    "    \"CREATE TABLE `geolocations` (\"\n",
    "    \"  `incident_num` varchar(13) NOT NULL,\"\n",
    "    \"  `lat` Decimal(8,6) NOT NULL,\"\n",
    "    \"  `lng` Decimal(9,6) NOT NULL,\"\n",
    "    \"  PRIMARY KEY (`incident_num`),\"\n",
    "    \"  CONSTRAINT `geolocations_ibfk_1` FOREIGN KEY (`incident_num`)\"\n",
    "    \"     REFERENCES `service_calls` (`incident_num`)\"\n",
    "    \") \")\n",
    "\n",
    "TABLES['Zipcodes'] = (\n",
    "    \"CREATE TABLE `zipcodes` (\"\n",
    "    \"  `incident_num` varchar(13) NOT NULL,\"\n",
    "    \"  `Zipcode` MEDIUMINT(5) NOT NULL,\"\n",
    "    \"  PRIMARY KEY (`incident_num`),\"\n",
    "    \"  CONSTRAINT `zipcodes_ibfk_1` FOREIGN KEY (`incident_num`)\"\n",
    "    \"     REFERENCES `service_calls` (`incident_num`)\"\n",
    "    \") \")\n",
    "\n"
   ]
  },
  {
   "cell_type": "code",
   "execution_count": 61,
   "id": "8ee5a801",
   "metadata": {},
   "outputs": [],
   "source": [
    "#Tables\n",
    "\n",
    "#initiate dictionary\n",
    "TABLES = {}\n",
    "\n",
    "#Add tables\n",
    "TABLES['Beats'] = (\n",
    "    \"CREATE TABLE `beats` (\"\n",
    "    \"  `beat` smallint NOT NULL,\"\n",
    "    \"  `neighborhood` varchar(25) NOT NULL,\"\n",
    "    \"  PRIMARY KEY (`beat`), UNIQUE KEY `neighborhood` (`neighborhood`)\"\n",
    "    \") \")\n",
    "\n",
    "TABLES['Dispositions'] = (\n",
    "    \"CREATE TABLE `dispositions` (\"\n",
    "    \"  `dispo_code` varchar(3) NOT NULL,\"\n",
    "    \"  `description` tinytext NOT NULL,\"\n",
    "    \"  PRIMARY KEY (`dispo_code`)\"\n",
    "    \") \")\n",
    "\n",
    "TABLES['Call_type'] = (\n",
    "    \"CREATE TABLE `call_types` (\"\n",
    "    \"  `call_type` varchar(10) NULL,\"\n",
    "    \"  `description` tinytext NOT NULL\"\n",
    "    \") \")\n",
    "\n",
    "TABLES['ServiceCalls'] = (\n",
    "    \"CREATE TABLE `service_calls` (\"\n",
    "    \"  `incident_num` varchar(13) NOT NULL,\"\n",
    "    \"  `incident_date_time` datetime NOT NULL,\"\n",
    "    \"  `call_type` varchar(10) NULL,\"\n",
    "    \"  `dispo_code` varchar(3) NULL,\"\n",
    "    \"  `beat` smallint NOT NULL,\"\n",
    "    \"  `priority` tinyint NOT NULL,\"\n",
    "    \"  `incident_year` year NOT NULL,\"\n",
    "    \"  PRIMARY KEY (`incident_num`),\"\n",
    "    \"  CONSTRAINT `service_calls_beat` FOREIGN KEY (`beat`)\"\n",
    "    \"     REFERENCES `beats` (`beat`),\"\n",
    "    \"  CONSTRAINT `service_calls_dispo` FOREIGN KEY (`dispo_code`)\"\n",
    "    \"     REFERENCES `dispositions` (`dispo_code`)\"\n",
    "    \") \")\n",
    "\n",
    "TABLES['Address'] = (\n",
    "    \"CREATE TABLE `address` (\"\n",
    "    \"  `incident_num` varchar(13) NOT NULL,\"\n",
    "    \"  `address_number_primary` int(8)  NULL,\"\n",
    "    \"  `address_dir_primary` varchar(10)  NULL,\"\n",
    "    \"  `address_road_primary` varchar(40) NULL,\"\n",
    "    \"  `address_sfx_primary` varchar(10) NULL,\"\n",
    "    \"  `address_dir_intersecting` varchar(10) NULL,\"\n",
    "    \"  `address_road_intersecting` varchar(40) NULL,\"\n",
    "    \"  `address_sfx_intersecting` varchar(10) NULL,\"\n",
    "    \"  `address` varchar(80) NOT NULL,\"\n",
    "    \"  PRIMARY KEY (`incident_num`)\"\n",
    "    \") \")\n",
    "\n",
    "TABLES['GeoLocations'] = (\n",
    "    \"CREATE TABLE `geolocations` (\"\n",
    "    \"  `incident_num` varchar(13) NOT NULL,\"\n",
    "    \"  `lat` Decimal(8,6) NOT NULL,\"\n",
    "    \"  `lng` Decimal(9,6) NOT NULL,\"\n",
    "    \"  PRIMARY KEY (`incident_num`)\"\n",
    "    \") \")\n",
    "\n",
    "TABLES['Zipcodes'] = (\n",
    "    \"CREATE TABLE `zipcodes` (\"\n",
    "    \"  `incident_num` varchar(13) NOT NULL,\"\n",
    "    \"  `Zipcode` MEDIUMINT(5) NOT NULL,\"\n",
    "    \"  PRIMARY KEY (`incident_num`)\"\n",
    "    \") \")\n"
   ]
  },
  {
   "cell_type": "code",
   "execution_count": 62,
   "id": "012e2a81",
   "metadata": {},
   "outputs": [
    {
     "name": "stdout",
     "output_type": "stream",
     "text": [
      "Creating table Beats: already exists.\n",
      "Creating table Dispositions: already exists.\n",
      "Creating table Call_type: already exists.\n",
      "Creating table ServiceCalls: already exists.\n",
      "Creating table Address: OK\n",
      "Creating table GeoLocations: OK\n",
      "Creating table Zipcodes: OK\n"
     ]
    }
   ],
   "source": [
    "cursor = cnx.cursor()\n",
    "\n",
    "for table_name in TABLES:\n",
    "    table_description = TABLES[table_name]\n",
    "    try:\n",
    "        print(\"Creating table {}: \".format(table_name), end='')\n",
    "        cursor.execute(table_description)\n",
    "    except mysql.connector.Error as err:\n",
    "        if err.errno == errorcode.ER_TABLE_EXISTS_ERROR:\n",
    "            print(\"already exists.\")\n",
    "        else:\n",
    "            print(err.msg)\n",
    "    else:\n",
    "        print(\"OK\")\n",
    "\n",
    "#cursor.close()\n",
    "#cnx.close()"
   ]
  },
  {
   "cell_type": "markdown",
   "id": "8d63511a",
   "metadata": {},
   "source": [
    "# Viewes"
   ]
  },
  {
   "cell_type": "code",
   "execution_count": 63,
   "id": "6c3b15bd",
   "metadata": {},
   "outputs": [],
   "source": [
    "#initiate dictionary\n",
    "VIEWS = {}\n",
    "\n",
    "#Add VIEWS\n",
    "VIEWS['Calls_Per_Day_By_Reason_Dispo_Beat'] = (\n",
    "    \"CREATE VIEW `calls_per_day_reason_disposition_beat` AS ( \"\n",
    "        \"SELECT DATE(SC.INCIDENT_DATE_TIME) AS Incident_Date, \"\n",
    "        \"CT.DESCRIPTION AS Reason_For_Call, \"\n",
    "        \"D.DESCRIPTION AS Disposition, \"\n",
    "        \"B.NEIGHBORHOOD AS Beat, COUNT(*) AS Total_Incidents \"\n",
    "        \"FROM service_calls SC \"\n",
    "        \"INNER JOIN call_types CT \"\n",
    "        \"    ON SC.call_type = CT.CALL_TYPE \"\n",
    "        \"INNER JOIN dispositions D \"\n",
    "        \"    ON SC.DISPO_CODE = D.DISPO_CODE \"\n",
    "        \"INNER JOIN beats B ON SC.BEAT = B.BEAT \"\n",
    "        \"GROUP BY DATE(SC.INCIDENT_DATE_TIME), CT.DESCRIPTION, D.DESCRIPTION, B.NEIGHBORHOOD \"\n",
    "    \") \")\n",
    "\n",
    "\n",
    "VIEWS['CallsPerZipCode'] = (\n",
    "    \"CREATE VIEW `calls_per_zipCode` AS ( \"\n",
    "        \"SELECT ZC.ZIPCODE, COUNT(*) AS CALLSPERZIPCODE \"\n",
    "        \"FROM service_calls SC INNER JOIN zipcodes ZC \"\n",
    "        \"ON SC.INCIDENT_NUM = ZC.INCIDENT_NUM \"\n",
    "        \"GROUP BY ZC.ZIPCODE \"\n",
    "    \") \")\n",
    "\n",
    "VIEWS['CallTypesPerZipCode'] = (\n",
    "    \"CREATE VIEW `call_typess_per_zipcode` AS ( \"\n",
    "        \"SELECT ZC.ZIPCODE, COUNT(DISTINCT SC.CALL_TYPE) AS CALLTYPESSPERZIPCODE \"\n",
    "        \"FROM service_calls SC INNER JOIN zipcodes ZC \"\n",
    "        \"ON SC.INCIDENT_NUM = ZC.INCIDENT_NUM \"\n",
    "        \"GROUP BY ZC.ZIPCODE \"\n",
    "    \") \")\n",
    "\n",
    "VIEWS['CallsByBeats'] = (\n",
    "    \"CREATE VIEW `calls_beats` AS ( \"\n",
    "        \"SELECT B.NEIGHBORHOOD AS Beat, COUNT(DISTINCT SC.INCIDENT_NUM) AS CALLSPERBEAT \"\n",
    "        \"FROM service_calls SC INNER JOIN beats B \"\n",
    "        \"ON SC.BEAT = B.BEAT \"\n",
    "        \"GROUP BY B.NEIGHBORHOOD \"\n",
    "    \") \")\n",
    "\n",
    "VIEWS['CallsByCallType'] = (\n",
    "    \"CREATE VIEW `calls_callyype` AS ( \"\n",
    "        \"SELECT CT.DESCRIPTION AS CALL_TYPE, COUNT(DISTINCT SC.INCIDENT_NUM) AS CALLSPERCALLTYPE \"\n",
    "        \"FROM service_calls SC INNER JOIN call_types CT \"\n",
    "        \"ON SC.CALL_TYPE = CT.CALL_TYPE \"\n",
    "        \"GROUP BY CT.DESCRIPTION \"\n",
    "    \") \")\n",
    "\n",
    "VIEWS['CallsByDispositionCode'] = (\n",
    "    \"CREATE VIEW `calls_dispo` AS ( \"\n",
    "        \"SELECT D.DESCRIPTION AS DISPOSITION, COUNT(DISTINCT SC.INCIDENT_NUM) AS CALLSPERDISPOSITION \"\n",
    "        \"FROM service_calls SC INNER JOIN dispositions D \"\n",
    "        \"ON SC.DISPO_CODE = D.DISPO_CODE \"\n",
    "        \"GROUP BY D.DESCRIPTION \"\n",
    "    \") \")"
   ]
  },
  {
   "cell_type": "code",
   "execution_count": 64,
   "id": "ac0fc2f9",
   "metadata": {},
   "outputs": [
    {
     "name": "stdout",
     "output_type": "stream",
     "text": [
      "Creating view Calls_Per_Day_By_Reason_Dispo_Beat: already exists.\n",
      "Creating view CallsPerZipCode: already exists.\n",
      "Creating view CallTypesPerZipCode: already exists.\n",
      "Creating view CallsByBeats: already exists.\n",
      "Creating view CallsByCallType: already exists.\n",
      "Creating view CallsByDispositionCode: already exists.\n"
     ]
    }
   ],
   "source": [
    "for view_name in VIEWS:\n",
    "    view_description = VIEWS[view_name]\n",
    "    try:\n",
    "        print(\"Creating view {}: \".format(view_name), end='')\n",
    "        cursor.execute(view_description)\n",
    "    except mysql.connector.Error as err:\n",
    "        if err.errno == errorcode.ER_TABLE_EXISTS_ERROR:\n",
    "            print(\"already exists.\")\n",
    "        else:\n",
    "            print(err.msg)\n",
    "    else:\n",
    "        print(\"OK\")"
   ]
  },
  {
   "cell_type": "code",
   "execution_count": 65,
   "id": "c4df3432",
   "metadata": {},
   "outputs": [],
   "source": [
    "cursor.close()\n",
    "cnx.close()"
   ]
  },
  {
   "cell_type": "code",
   "execution_count": null,
   "id": "3e2a77d4",
   "metadata": {},
   "outputs": [],
   "source": []
  }
 ],
 "metadata": {
  "kernelspec": {
   "display_name": "Python 3 (ipykernel)",
   "language": "python",
   "name": "python3"
  },
  "language_info": {
   "codemirror_mode": {
    "name": "ipython",
    "version": 3
   },
   "file_extension": ".py",
   "mimetype": "text/x-python",
   "name": "python",
   "nbconvert_exporter": "python",
   "pygments_lexer": "ipython3",
   "version": "3.9.12"
  }
 },
 "nbformat": 4,
 "nbformat_minor": 5
}
