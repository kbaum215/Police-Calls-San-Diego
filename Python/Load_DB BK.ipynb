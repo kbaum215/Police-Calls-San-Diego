{
 "cells": [
  {
   "cell_type": "code",
   "execution_count": 2,
   "id": "00add51c",
   "metadata": {},
   "outputs": [],
   "source": [
    "#Libraries\n",
    "import mysql.connector\n",
    "import pandas as pd\n",
    "from datetime import datetime\n",
    "from tqdm import tqdm\n",
    "from sqlalchemy import create_engine\n",
    "import pymysql\n",
    "pymysql.install_as_MySQLdb()\n"
   ]
  },
  {
   "cell_type": "code",
   "execution_count": null,
   "id": "f2e4ad21",
   "metadata": {},
   "outputs": [],
   "source": [
    "database = \"SD_PD\"\n",
    "user = 'Salvador'\n",
    "password = 'renovatioA19!'\n",
    "host = 'localhost'"
   ]
  },
  {
   "cell_type": "code",
   "execution_count": null,
   "id": "e7a13193",
   "metadata": {},
   "outputs": [],
   "source": [
    "#Initial Connection\n",
    "cnx = mysql.connector.connect(user=user,\n",
    "                              password=password,\n",
    "                              host=host,\n",
    "                              database=database\n",
    "                              )\n",
    "cursor = cnx.cursor()"
   ]
  },
  {
   "cell_type": "code",
   "execution_count": null,
   "id": "7a60f821",
   "metadata": {},
   "outputs": [],
   "source": [
    "#Calls\n",
    "url = f\"http://seshat.datasd.org/pd/pd_cfs_calltypes_datasd.csv\"\n",
    "call_type = pd.read_csv(url).dropna(axis=1)\n"
   ]
  },
  {
   "cell_type": "code",
   "execution_count": null,
   "id": "ddb52f82",
   "metadata": {},
   "outputs": [],
   "source": [
    "#Dispos\n",
    "url = f\"http://seshat.datasd.org/pd/pd_dispo_codes_datasd.csv\"\n",
    "disposition = pd.read_csv(url).dropna(axis=1)\n",
    "disposition.loc[len(disposition.index)] = ['DEF', 'DEF'] \n",
    "disposition.loc[len(disposition.index)] = ['SS-', 'SS-'] "
   ]
  },
  {
   "cell_type": "code",
   "execution_count": null,
   "id": "1104f35c",
   "metadata": {},
   "outputs": [],
   "source": [
    "#Beats\n",
    "beat = pd.read_csv('beat-neighborhood.csv').dropna(axis=1)\n",
    "beat_split = beat['beat,neighborhood'].str.split(pat=\",\",\n",
    "                                                 expand=True)\n",
    "beat_split = beat_split.rename(columns={0: \"beat\",\n",
    "                                        1: \"neighborhood\"})\n",
    "beat_split.loc[len(beat_split.index)] = [-1, 'No Beat'] \n"
   ]
  },
  {
   "cell_type": "code",
   "execution_count": null,
   "id": "0909945f",
   "metadata": {},
   "outputs": [],
   "source": [
    "# Create dataframe\n",
    "days = pd.DataFrame({\n",
    "    'day_of_week':list(range(1,8)),\n",
    "    'day':['Sunday','Monday','Tuesday','Wednesday','Thursday','Friday','Saturday'],\n",
    "})\n"
   ]
  },
  {
   "cell_type": "code",
   "execution_count": null,
   "id": "1316f407",
   "metadata": {},
   "outputs": [],
   "source": [
    "# df to dict\n",
    "call_type_dict = call_type.to_dict('records')\n",
    "disposition_dict = disposition.to_dict('records')\n",
    "beat_dict = beat_split.to_dict('records')\n",
    "days_dict = days.to_dict('records')"
   ]
  },
  {
   "cell_type": "code",
   "execution_count": null,
   "id": "4a14aff7",
   "metadata": {},
   "outputs": [],
   "source": [
    "def Find_Data(row,cursor,table, key):\n",
    "    try:\n",
    "        #print(f\"SELECT * from {table} where {key} = '{row[key]}'\")\n",
    "        cursor.execute(f\"SELECT * from {table} where {key} = '{row[key]}'\")\n",
    "        # Fetch a record\n",
    "        result = cursor.fetchone()\n",
    "    except:\n",
    "        result = 0\n",
    "    \n",
    "    return result"
   ]
  },
  {
   "cell_type": "code",
   "execution_count": null,
   "id": "62922f29",
   "metadata": {},
   "outputs": [],
   "source": [
    "#Load Data\n",
    "def Load_Data(row,cursor,table,Col1,Col2):\n",
    "    # Create a new record\n",
    "    sql = f\"\"\"INSERT INTO {table} ({Col1},\n",
    "                                    {Col2}\n",
    "                                    ) VALUES (%s, %s)\"\"\"\n",
    "\n",
    "    # Execute the query\n",
    "    cursor.execute(sql, (row[Col1],row[Col2]))\n",
    "    cnx.commit()  "
   ]
  },
  {
   "cell_type": "code",
   "execution_count": null,
   "id": "c06c397d",
   "metadata": {},
   "outputs": [],
   "source": [
    "# SQL Variable Tables\n",
    "SQL_Tables = pd.DataFrame({\n",
    "    'Table':['Call_types','Dispositions','Beats'],\n",
    "    'Key':['call_type','dispo_code','beat'],\n",
    "    'Col2':['description','description','neighborhood'],\n",
    "    'dict':[call_type_dict,disposition_dict,beat_dict]\n",
    "})\n",
    "SQL_Tables_dict = SQL_Tables.to_dict('records')"
   ]
  },
  {
   "cell_type": "code",
   "execution_count": null,
   "id": "e3b16e12",
   "metadata": {},
   "outputs": [],
   "source": [
    "for upper_row in tqdm(SQL_Tables_dict):\n",
    "    for row in upper_row['dict']:\n",
    "        Data_Found = Find_Data(row,cursor,\n",
    "                               upper_row['Table'],\n",
    "                               upper_row['Key'])\n",
    "        if Data_Found is None:\n",
    "            #If no data found load \n",
    "            Load_Data(row,\n",
    "                      cursor,\n",
    "                      upper_row['Table'],\n",
    "                      upper_row['Key'],\n",
    "                      upper_row['Col2'])\n",
    "        else:\n",
    "            pass"
   ]
  },
  {
   "cell_type": "markdown",
   "id": "9ffc936e",
   "metadata": {},
   "source": [
    "# Load Historical Calls"
   ]
  },
  {
   "cell_type": "code",
   "execution_count": null,
   "id": "3eb41267",
   "metadata": {},
   "outputs": [],
   "source": [
    "#function to download yearly data\n",
    "def Get_Data(year):\n",
    "    url = f\"https://seshat.datasd.org/pd/pd_calls_for_service_{year}_datasd.csv\"\n",
    "    df = pd.read_csv(url)\n",
    "    return df"
   ]
  },
  {
   "cell_type": "code",
   "execution_count": null,
   "id": "3d3b293d",
   "metadata": {},
   "outputs": [],
   "source": [
    "#Calls\n",
    "def Load_Calls(row,cursor,table,year):\n",
    "    # Create a new record\n",
    "    sql = f\"\"\"INSERT INTO {table} ( incident_num,\n",
    "                                    incident_date_time,\n",
    "                                    call_type,\n",
    "                                    dispo_code,\n",
    "                                    beat,\n",
    "                                    priority,\n",
    "                                    incident_year\n",
    "                                    ) VALUES (%s,%s,%s,%s,%s,%s,%s,%s)\"\"\"\n",
    "\n",
    "    # Execute the query\n",
    "    cursor.execute(sql, (row['incident_num'],\n",
    "                         row['date_time'],\n",
    "                         row['call_type'],\n",
    "                         row['disposition'],\n",
    "                         row['beat'],\n",
    "                         row['priority'],\n",
    "                         year,\n",
    "                        )\n",
    "                  )\n",
    "    cnx.commit()  "
   ]
  },
  {
   "cell_type": "code",
   "execution_count": null,
   "id": "e29c55ee",
   "metadata": {},
   "outputs": [],
   "source": [
    "#Calls\n",
    "def Load_Calls_Address(row,cursor,table):\n",
    "    address = ' '.join(filter(None, (str(row['address_number_primary_str']),\n",
    "                                  row['address_dir_primary'],\n",
    "                                  row['address_road_primary'],\n",
    "                                  row['address_sfx_primary'],\n",
    "                                  'San Diego CA'\n",
    "                                 )))\n",
    "\n",
    "    # Create a new record\n",
    "    sql = f\"\"\"INSERT INTO {table} ( incident_num,\n",
    "                                    address_number_primary,\n",
    "                                    address_dir_primary,\n",
    "                                    address_road_primary,\n",
    "                                    address_sfx_primary,\n",
    "                                    address_dir_intersecting,\n",
    "                                    address_road_intersecting,\n",
    "                                    address_sfx_intersecting,\n",
    "                                    address\n",
    "                                    ) VALUES (%s,%s,%s,%s,%s,%s,%s,%s,%s)\"\"\"\n",
    "\n",
    "    # Execute the query\n",
    "    cursor.execute(sql, (row['incident_num'],\n",
    "                         row['address_number_primary'],\n",
    "                         row['address_dir_primary'],\n",
    "                         row['address_road_primary'],\n",
    "                         row['address_sfx_primary'],\n",
    "                         row['address_dir_intersecting'],\n",
    "                         row['address_road_intersecting'],\n",
    "                         row['address_sfx_intersecting'],\n",
    "                         row['address_road_intersecting'],\n",
    "                         address\n",
    "                        )\n",
    "                  )\n",
    "    cnx.commit()"
   ]
  },
  {
   "cell_type": "code",
   "execution_count": null,
   "id": "db61a3a6",
   "metadata": {},
   "outputs": [],
   "source": [
    "#Calls\n",
    "def Load_Calls_Address(row,cursor,table):\n",
    "    address = ' '.join(filter(None, (str(row['address_number_primary_str']),\n",
    "                                  row['address_dir_primary'],\n",
    "                                  row['address_road_primary'],\n",
    "                                  row['address_sfx_primary'],\n",
    "                                  'San Diego CA'\n",
    "                                 )))\n",
    "    print(address)\n"
   ]
  },
  {
   "cell_type": "code",
   "execution_count": 4,
   "id": "e5a268ed",
   "metadata": {},
   "outputs": [
    {
     "data": {
      "text/plain": [
       "[2023]"
      ]
     },
     "execution_count": 4,
     "metadata": {},
     "output_type": "execute_result"
    }
   ],
   "source": [
    "Years = list(range(2023,datetime.now().year +1))\n",
    "Years"
   ]
  },
  {
   "cell_type": "code",
   "execution_count": null,
   "id": "27571314",
   "metadata": {},
   "outputs": [],
   "source": [
    "for year in Years:\n",
    "    yearly_data = Get_Data(year)\n",
    "    yearly_data_dict = yearly_data.to_dict('records')\n",
    "    for row in tqdm(yearly_data_dict):\n",
    "        #Load Service Calls\n",
    "        Table = 'Service_calls'\n",
    "        Key = 'incident_num'\n",
    "        #Verify if Data is in table\n",
    "        Data_Found = Find_Data(row,cursor,Table,Key)\n",
    "        if Data_Found is None:\n",
    "            #If no data found load\n",
    "            try:\n",
    "                Load_Calls(row,cursor,Table,year)\n",
    "            except:\n",
    "                print(row)\n",
    "                \n",
    "        #Load Service Calls Address        \n",
    "        Table = 'Address'\n",
    "        Key = 'incident_num'\n",
    "        #Verify if Data is in table\n",
    "        Data_Found = Find_Data(row,cursor,Table,Key)\n",
    "        if Data_Found is None:\n",
    "            #If no data found load\n",
    "            try:\n",
    "                Load_Calls_Address(row,cursor,Table)\n",
    "            except:\n",
    "                print(row)\n",
    "                \n",
    "\n",
    "        else:\n",
    "            print('error')\n",
    "            print(row)"
   ]
  }
 ],
 "metadata": {
  "kernelspec": {
   "display_name": "Python 3 (ipykernel)",
   "language": "python",
   "name": "python3"
  },
  "language_info": {
   "codemirror_mode": {
    "name": "ipython",
    "version": 3
   },
   "file_extension": ".py",
   "mimetype": "text/x-python",
   "name": "python",
   "nbconvert_exporter": "python",
   "pygments_lexer": "ipython3",
   "version": "3.9.12"
  }
 },
 "nbformat": 4,
 "nbformat_minor": 5
}
