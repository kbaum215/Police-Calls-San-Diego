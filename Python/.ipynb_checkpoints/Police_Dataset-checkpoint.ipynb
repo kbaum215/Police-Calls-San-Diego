{
 "cells": [
  {
   "cell_type": "code",
   "execution_count": 144,
   "id": "f413578e",
   "metadata": {},
   "outputs": [],
   "source": [
    "import numpy as np\n",
    "import pandas as pd\n",
    "import matplotlib.pyplot as plt"
   ]
  },
  {
   "cell_type": "code",
   "execution_count": 145,
   "id": "34acc621",
   "metadata": {},
   "outputs": [],
   "source": [
    "# Listing out the datasets to use\n",
    "main_df = pd.read_csv('pd_calls_for_service_2023_datasd.csv')\n",
    "beat_codes_df = pd.read_csv('pd_beat_codes_list_datasd.csv')\n",
    "dispo_codes_df = pd.read_csv('pd_dispo_codes_datasd.csv')\n",
    "call_types_df = pd.read_csv('pd_cfs_calltypes_datasd.csv')\n"
   ]
  },
  {
   "cell_type": "code",
   "execution_count": 146,
   "id": "7543366f",
   "metadata": {},
   "outputs": [],
   "source": [
    "# Dropping columns that are not needed from call_types_df\n",
    "call_types_df = call_types_df.drop({'Unnamed: 2','Unnamed: 3','Unnamed: 4'}, axis=1)"
   ]
  },
  {
   "cell_type": "code",
   "execution_count": 147,
   "id": "3de8ec7b",
   "metadata": {},
   "outputs": [],
   "source": [
    "# Merging the main, pd_df with the beat_codes so we can see descriptions of the beats\n",
    "main_df = main_df.merge(beat_codes_df,\n",
    "                           left_on=['beat'], right_on=['beat'])\n",
    "main_df.rename(columns={'beat': 'beat_code', \n",
    "                        'neighborhood': 'beat_neighborhood'}, inplace=True)"
   ]
  },
  {
   "cell_type": "code",
   "execution_count": 148,
   "id": "f0f1a4bb",
   "metadata": {
    "scrolled": true
   },
   "outputs": [],
   "source": [
    "# Merging the pd_df with the disposition codes so we can see descriptions of the dispositions\n",
    "dispo_codes_df.rename(columns={'dispo_code': 'disposition', 'description': 'dispo_description'}, \n",
    "                      inplace=True)\n",
    "main_df = main_df.merge(dispo_codes_df,\n",
    "                           left_on=['disposition'], right_on=['disposition'])"
   ]
  },
  {
   "cell_type": "code",
   "execution_count": 149,
   "id": "923cbb32",
   "metadata": {},
   "outputs": [],
   "source": [
    "# Merging the pd_df with the call type codes so we can see descriptions of the call types\n",
    "main_df = main_df.merge(call_types_df,\n",
    "                           left_on=['call_type'], right_on=['call_type'])\n",
    "main_df.rename(columns={'description': 'call_type_description'}, \n",
    "                      inplace=True)"
   ]
  },
  {
   "cell_type": "code",
   "execution_count": 150,
   "id": "b96c69f5",
   "metadata": {},
   "outputs": [],
   "source": [
    "priority_short_description_dictionary = {2: 'Dispatch as quickly as possible', \n",
    "                                         3: 'Dispatch as quickly as possible', \n",
    "                                         1: 'Dispatch Immediately', \n",
    "                                         4: 'Dispatch when no higher priority calls are waiting',\n",
    "                                         0: 'Dispatch Immediately',\n",
    "                                         9: 'Calls that are formatted for the Telephone Report Unit (TRU)'}\n",
    "priority_long_description_dictionary = {2: 'Priority Two calls involve complaints regarding less serious crimes in which there is no threat to life. Examples include: prowlers who have left, preserve the peace, crime reports for residents standing by at an inconvenient location, blocked driveway when the caller is waiting to leave, injured animals, loud parties with mitigating circumstances', \n",
    "                                         3: 'Priority Three calls involve minor crimes or requests for service which are not urgent. Examples include: investigating a cold crime, loud parties involving noise only.', \n",
    "                                         1: 'Priority One calls involve serious crimes in progress or a threat to life. Examples include: missing children, child abuse, domestic violence, disturbances involving weapons/violence and bomb threats', \n",
    "                                         4: ' Priority Four calls involve minor requests for police service. Examples include: found property, most parking violations, etc.',\n",
    "                                         0: 'Priority E calls involve an imminent threat to life. Examples include: officer or person down, no detail accidents and attempted suicide',\n",
    "                                         9: 'Priority Nine calls involve requests for police service, which have limited or no suspect information. Examples include: petty theft, vehicle break-in and false use of another’s identity.'}\n",
    "main_df['priority_short'] = main_df['priority'].map(priority_short_description_dictionary)\n",
    "main_df['priority_long'] = main_df['priority'].map(priority_long_description_dictionary)\n",
    "\n"
   ]
  },
  {
   "cell_type": "code",
   "execution_count": 151,
   "id": "87253d15",
   "metadata": {},
   "outputs": [],
   "source": [
    "# Converting object of date_time to an actual datetime\n",
    "main_df['date_time'] = pd.to_datetime(main_df['date_time'])"
   ]
  },
  {
   "cell_type": "code",
   "execution_count": 158,
   "id": "cce642e1",
   "metadata": {},
   "outputs": [],
   "source": [
    "main_df= main_df.loc[:,['incident_num', \n",
    "                        'date_time',\n",
    "                        'day_of_week',\n",
    "                        'address_number_primary',\n",
    "                        'address_dir_primary',\n",
    "                        'address_road_primary',\n",
    "                        'address_sfx_primary',\n",
    "                        'address_dir_intersecting',\n",
    "                        'address_road_intersecting',\n",
    "                        'address_sfx_intersecting',\n",
    "                        'call_type',\n",
    "                        'call_type_description',\n",
    "                        'disposition',\n",
    "                        'dispo_description',\n",
    "                        'beat_code',\n",
    "                        'beat_neighborhood',\n",
    "                        'priority',\n",
    "                        'priority_short',\n",
    "                        'priority_long']]\n"
   ]
  },
  {
   "cell_type": "code",
   "execution_count": 159,
   "id": "54354b50",
   "metadata": {},
   "outputs": [
    {
     "data": {
      "text/html": [
       "<div>\n",
       "<style scoped>\n",
       "    .dataframe tbody tr th:only-of-type {\n",
       "        vertical-align: middle;\n",
       "    }\n",
       "\n",
       "    .dataframe tbody tr th {\n",
       "        vertical-align: top;\n",
       "    }\n",
       "\n",
       "    .dataframe thead th {\n",
       "        text-align: right;\n",
       "    }\n",
       "</style>\n",
       "<table border=\"1\" class=\"dataframe\">\n",
       "  <thead>\n",
       "    <tr style=\"text-align: right;\">\n",
       "      <th></th>\n",
       "      <th>incident_num</th>\n",
       "      <th>date_time</th>\n",
       "      <th>day_of_week</th>\n",
       "      <th>address_number_primary</th>\n",
       "      <th>address_dir_primary</th>\n",
       "      <th>address_road_primary</th>\n",
       "      <th>address_sfx_primary</th>\n",
       "      <th>address_dir_intersecting</th>\n",
       "      <th>address_road_intersecting</th>\n",
       "      <th>address_sfx_intersecting</th>\n",
       "      <th>call_type</th>\n",
       "      <th>call_type_description</th>\n",
       "      <th>disposition</th>\n",
       "      <th>dispo_description</th>\n",
       "      <th>beat_code</th>\n",
       "      <th>beat_neighborhood</th>\n",
       "      <th>priority</th>\n",
       "      <th>priority_short</th>\n",
       "      <th>priority_long</th>\n",
       "    </tr>\n",
       "  </thead>\n",
       "  <tbody>\n",
       "    <tr>\n",
       "      <th>0</th>\n",
       "      <td>E23010000001</td>\n",
       "      <td>2023-01-01 00:00:05</td>\n",
       "      <td>1</td>\n",
       "      <td>0</td>\n",
       "      <td>NaN</td>\n",
       "      <td>05TH</td>\n",
       "      <td>AVE</td>\n",
       "      <td>NaN</td>\n",
       "      <td>G</td>\n",
       "      <td>NaN</td>\n",
       "      <td>FD</td>\n",
       "      <td>FLAG DOWN/FIELD INITIATED</td>\n",
       "      <td>CAN</td>\n",
       "      <td>CANCEL</td>\n",
       "      <td>523</td>\n",
       "      <td>Gaslamp</td>\n",
       "      <td>2</td>\n",
       "      <td>Dispatch as quickly as possible</td>\n",
       "      <td>Priority Two calls involve complaints regardin...</td>\n",
       "    </tr>\n",
       "    <tr>\n",
       "      <th>1</th>\n",
       "      <td>E23010000116</td>\n",
       "      <td>2023-01-01 01:07:04</td>\n",
       "      <td>1</td>\n",
       "      <td>500</td>\n",
       "      <td>NaN</td>\n",
       "      <td>F</td>\n",
       "      <td>ST</td>\n",
       "      <td>NaN</td>\n",
       "      <td>NaN</td>\n",
       "      <td>NaN</td>\n",
       "      <td>FD</td>\n",
       "      <td>FLAG DOWN/FIELD INITIATED</td>\n",
       "      <td>CAN</td>\n",
       "      <td>CANCEL</td>\n",
       "      <td>523</td>\n",
       "      <td>Gaslamp</td>\n",
       "      <td>2</td>\n",
       "      <td>Dispatch as quickly as possible</td>\n",
       "      <td>Priority Two calls involve complaints regardin...</td>\n",
       "    </tr>\n",
       "    <tr>\n",
       "      <th>2</th>\n",
       "      <td>E23010000130</td>\n",
       "      <td>2023-01-01 01:27:25</td>\n",
       "      <td>1</td>\n",
       "      <td>0</td>\n",
       "      <td>NaN</td>\n",
       "      <td>04TH</td>\n",
       "      <td>AVE</td>\n",
       "      <td>NaN</td>\n",
       "      <td>MARKET</td>\n",
       "      <td>NaN</td>\n",
       "      <td>FD</td>\n",
       "      <td>FLAG DOWN/FIELD INITIATED</td>\n",
       "      <td>CAN</td>\n",
       "      <td>CANCEL</td>\n",
       "      <td>523</td>\n",
       "      <td>Gaslamp</td>\n",
       "      <td>2</td>\n",
       "      <td>Dispatch as quickly as possible</td>\n",
       "      <td>Priority Two calls involve complaints regardin...</td>\n",
       "    </tr>\n",
       "    <tr>\n",
       "      <th>3</th>\n",
       "      <td>E23010000213</td>\n",
       "      <td>2023-01-01 02:49:54</td>\n",
       "      <td>1</td>\n",
       "      <td>500</td>\n",
       "      <td>NaN</td>\n",
       "      <td>MARKET</td>\n",
       "      <td>ST</td>\n",
       "      <td>NaN</td>\n",
       "      <td>NaN</td>\n",
       "      <td>NaN</td>\n",
       "      <td>FD</td>\n",
       "      <td>FLAG DOWN/FIELD INITIATED</td>\n",
       "      <td>CAN</td>\n",
       "      <td>CANCEL</td>\n",
       "      <td>523</td>\n",
       "      <td>Gaslamp</td>\n",
       "      <td>2</td>\n",
       "      <td>Dispatch as quickly as possible</td>\n",
       "      <td>Priority Two calls involve complaints regardin...</td>\n",
       "    </tr>\n",
       "    <tr>\n",
       "      <th>4</th>\n",
       "      <td>E23010008343</td>\n",
       "      <td>2023-01-07 00:49:56</td>\n",
       "      <td>7</td>\n",
       "      <td>800</td>\n",
       "      <td>NaN</td>\n",
       "      <td>05TH</td>\n",
       "      <td>AVE</td>\n",
       "      <td>NaN</td>\n",
       "      <td>NaN</td>\n",
       "      <td>NaN</td>\n",
       "      <td>FD</td>\n",
       "      <td>FLAG DOWN/FIELD INITIATED</td>\n",
       "      <td>CAN</td>\n",
       "      <td>CANCEL</td>\n",
       "      <td>523</td>\n",
       "      <td>Gaslamp</td>\n",
       "      <td>2</td>\n",
       "      <td>Dispatch as quickly as possible</td>\n",
       "      <td>Priority Two calls involve complaints regardin...</td>\n",
       "    </tr>\n",
       "  </tbody>\n",
       "</table>\n",
       "</div>"
      ],
      "text/plain": [
       "   incident_num           date_time  day_of_week  address_number_primary  \\\n",
       "0  E23010000001 2023-01-01 00:00:05            1                       0   \n",
       "1  E23010000116 2023-01-01 01:07:04            1                     500   \n",
       "2  E23010000130 2023-01-01 01:27:25            1                       0   \n",
       "3  E23010000213 2023-01-01 02:49:54            1                     500   \n",
       "4  E23010008343 2023-01-07 00:49:56            7                     800   \n",
       "\n",
       "  address_dir_primary address_road_primary address_sfx_primary  \\\n",
       "0                 NaN                 05TH                 AVE   \n",
       "1                 NaN                    F                  ST   \n",
       "2                 NaN                 04TH                 AVE   \n",
       "3                 NaN               MARKET                  ST   \n",
       "4                 NaN                 05TH                 AVE   \n",
       "\n",
       "   address_dir_intersecting address_road_intersecting  \\\n",
       "0                       NaN                         G   \n",
       "1                       NaN                       NaN   \n",
       "2                       NaN                    MARKET   \n",
       "3                       NaN                       NaN   \n",
       "4                       NaN                       NaN   \n",
       "\n",
       "   address_sfx_intersecting call_type      call_type_description disposition  \\\n",
       "0                       NaN        FD  FLAG DOWN/FIELD INITIATED         CAN   \n",
       "1                       NaN        FD  FLAG DOWN/FIELD INITIATED         CAN   \n",
       "2                       NaN        FD  FLAG DOWN/FIELD INITIATED         CAN   \n",
       "3                       NaN        FD  FLAG DOWN/FIELD INITIATED         CAN   \n",
       "4                       NaN        FD  FLAG DOWN/FIELD INITIATED         CAN   \n",
       "\n",
       "  dispo_description  beat_code beat_neighborhood  priority  \\\n",
       "0            CANCEL        523           Gaslamp         2   \n",
       "1            CANCEL        523           Gaslamp         2   \n",
       "2            CANCEL        523           Gaslamp         2   \n",
       "3            CANCEL        523           Gaslamp         2   \n",
       "4            CANCEL        523           Gaslamp         2   \n",
       "\n",
       "                    priority_short  \\\n",
       "0  Dispatch as quickly as possible   \n",
       "1  Dispatch as quickly as possible   \n",
       "2  Dispatch as quickly as possible   \n",
       "3  Dispatch as quickly as possible   \n",
       "4  Dispatch as quickly as possible   \n",
       "\n",
       "                                       priority_long  \n",
       "0  Priority Two calls involve complaints regardin...  \n",
       "1  Priority Two calls involve complaints regardin...  \n",
       "2  Priority Two calls involve complaints regardin...  \n",
       "3  Priority Two calls involve complaints regardin...  \n",
       "4  Priority Two calls involve complaints regardin...  "
      ]
     },
     "execution_count": 159,
     "metadata": {},
     "output_type": "execute_result"
    }
   ],
   "source": [
    "main_df.head()"
   ]
  },
  {
   "cell_type": "code",
   "execution_count": 154,
   "id": "f94c9160",
   "metadata": {},
   "outputs": [
    {
     "name": "stdout",
     "output_type": "stream",
     "text": [
      "<class 'pandas.core.frame.DataFrame'>\n",
      "Int64Index: 28308 entries, 0 to 28307\n",
      "Data columns (total 19 columns):\n",
      " #   Column                     Non-Null Count  Dtype         \n",
      "---  ------                     --------------  -----         \n",
      " 0   incident_num               28308 non-null  object        \n",
      " 1   date_time                  28308 non-null  datetime64[ns]\n",
      " 2   day_of_week                28308 non-null  int64         \n",
      " 3   address_number_primary     28308 non-null  int64         \n",
      " 4   address_dir_primary        1352 non-null   object        \n",
      " 5   address_road_primary       28307 non-null  object        \n",
      " 6   address_sfx_primary        26077 non-null  object        \n",
      " 7   address_dir_intersecting   0 non-null      float64       \n",
      " 8   address_road_intersecting  4490 non-null   object        \n",
      " 9   address_sfx_intersecting   0 non-null      float64       \n",
      " 10  call_type                  28308 non-null  object        \n",
      " 11  call_type_description      28308 non-null  object        \n",
      " 12  disposition                28308 non-null  object        \n",
      " 13  dispo_description          28308 non-null  object        \n",
      " 14  beat_code                  28308 non-null  int64         \n",
      " 15  beat_neighborhood          28308 non-null  object        \n",
      " 16  priority                   28308 non-null  int64         \n",
      " 17  priority_short             28308 non-null  object        \n",
      " 18  priority_long              28308 non-null  object        \n",
      "dtypes: datetime64[ns](1), float64(2), int64(4), object(12)\n",
      "memory usage: 4.3+ MB\n"
     ]
    }
   ],
   "source": [
    "main_df.info()"
   ]
  },
  {
   "cell_type": "code",
   "execution_count": 155,
   "id": "b60c91de",
   "metadata": {},
   "outputs": [
    {
     "data": {
      "text/plain": [
       "415        4000\n",
       "SELENF     1676\n",
       "T          1549\n",
       "459A       1386\n",
       "CW         1134\n",
       "           ... \n",
       "ALERT3        1\n",
       "272           1\n",
       "INFOX         1\n",
       "1181-CR       1\n",
       "595           1\n",
       "Name: call_type, Length: 203, dtype: int64"
      ]
     },
     "execution_count": 155,
     "metadata": {},
     "output_type": "execute_result"
    }
   ],
   "source": [
    "main_df.call_type.value_counts()"
   ]
  },
  {
   "cell_type": "code",
   "execution_count": 156,
   "id": "7cbac83f",
   "metadata": {},
   "outputs": [
    {
     "data": {
      "text/plain": [
       "2    13775\n",
       "1     5520\n",
       "3     5449\n",
       "4     1697\n",
       "0     1543\n",
       "9      324\n",
       "Name: priority, dtype: int64"
      ]
     },
     "execution_count": 156,
     "metadata": {},
     "output_type": "execute_result"
    }
   ],
   "source": [
    "main_df.priority.value_counts()"
   ]
  },
  {
   "cell_type": "code",
   "execution_count": null,
   "id": "3859cf26",
   "metadata": {},
   "outputs": [],
   "source": []
  }
 ],
 "metadata": {
  "kernelspec": {
   "display_name": "Python 3 (ipykernel)",
   "language": "python",
   "name": "python3"
  },
  "language_info": {
   "codemirror_mode": {
    "name": "ipython",
    "version": 3
   },
   "file_extension": ".py",
   "mimetype": "text/x-python",
   "name": "python",
   "nbconvert_exporter": "python",
   "pygments_lexer": "ipython3",
   "version": "3.10.4"
  }
 },
 "nbformat": 4,
 "nbformat_minor": 5
}
