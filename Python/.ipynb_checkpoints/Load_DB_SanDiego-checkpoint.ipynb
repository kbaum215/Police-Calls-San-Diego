{
 "cells": [
  {
   "cell_type": "code",
   "execution_count": 62,
   "id": "00add51c",
   "metadata": {},
   "outputs": [],
   "source": [
    "#Libraries\n",
    "import mysql.connector\n",
    "import pandas as pd\n",
    "from datetime import datetime\n",
    "from tqdm import tqdm\n",
    "from sqlalchemy import create_engine\n",
    "import pymysql\n",
    "pymysql.install_as_MySQLdb()\n",
    "import requests\n",
    "import time\n",
    "from geopy.extra.rate_limiter import RateLimiter\n",
    "from geopy.geocoders import Nominatim"
   ]
  },
  {
   "cell_type": "markdown",
   "id": "8771b324",
   "metadata": {},
   "source": [
    "## DB Coonnect"
   ]
  },
  {
   "cell_type": "code",
   "execution_count": 33,
   "id": "f2e4ad21",
   "metadata": {},
   "outputs": [],
   "source": [
    "user = 'admin'\n",
    "password = 'XXXXXXX'\n",
    "host = 'sdpd.chck20ykciaw.us-west-2.rds.amazonaws.com'\n",
    "GOOGLE_API_KEY = 'XXXXXX'\n",
    "user_agent_name = 'Sal-App'\n",
    "geolocator = Nominatim(user_agent = user_agent_name)"
   ]
  },
  {
   "cell_type": "code",
   "execution_count": 80,
   "id": "424953e1",
   "metadata": {},
   "outputs": [],
   "source": [
    "#Local\n",
    "database = \"SDPD_DB\"\n",
    "\n",
    "user = 'root'\n",
    "password = 'XXXXX'\n",
    "host = 'localhost'\n",
    "\n",
    "GOOGLE_API_KEY = 'XXXXXX'\n",
    "user_agent_name = 'Sal-App'\n",
    "geolocator = Nominatim(user_agent = user_agent_name)"
   ]
  },
  {
   "cell_type": "code",
   "execution_count": 81,
   "id": "e7a13193",
   "metadata": {},
   "outputs": [],
   "source": [
    "#Initial Connection\n",
    "cnx = mysql.connector.connect(user=user,\n",
    "                              password=password,\n",
    "                              host=host,\n",
    "                              database=database\n",
    "                              )\n",
    "cursor = cnx.cursor()"
   ]
  },
  {
   "cell_type": "markdown",
   "id": "bbfdb790",
   "metadata": {},
   "source": [
    "##  Find if Row exists"
   ]
  },
  {
   "cell_type": "code",
   "execution_count": 19,
   "id": "4a14aff7",
   "metadata": {},
   "outputs": [],
   "source": [
    "def Find_Data(row,cursor,table, key):\n",
    "    try:\n",
    "        cursor.execute(f\"SELECT * from {table} where {key} = '{row[key]}'\")\n",
    "        result = cursor.fetchone()\n",
    "    except:\n",
    "        result = 0\n",
    "    \n",
    "    return result"
   ]
  },
  {
   "cell_type": "markdown",
   "id": "0db2fdfe",
   "metadata": {},
   "source": [
    "## Load Variables"
   ]
  },
  {
   "cell_type": "code",
   "execution_count": 6,
   "id": "7a60f821",
   "metadata": {},
   "outputs": [],
   "source": [
    "#Calls\n",
    "url = f\"http://seshat.datasd.org/pd/pd_cfs_calltypes_datasd.csv\"\n",
    "call_type = pd.read_csv(url).dropna(axis=1)\n"
   ]
  },
  {
   "cell_type": "code",
   "execution_count": 7,
   "id": "ddb52f82",
   "metadata": {},
   "outputs": [],
   "source": [
    "#Dispos\n",
    "url = f\"http://seshat.datasd.org/pd/pd_dispo_codes_datasd.csv\"\n",
    "disposition = pd.read_csv(url).dropna(axis=1)\n",
    "disposition.loc[len(disposition.index)] = ['DEF', 'DEF'] \n",
    "disposition.loc[len(disposition.index)] = ['SS-', 'SS-'] "
   ]
  },
  {
   "cell_type": "code",
   "execution_count": 8,
   "id": "1104f35c",
   "metadata": {},
   "outputs": [],
   "source": [
    "#Beats\n",
    "beat = pd.read_csv('beat-neighborhood.csv').dropna(axis=1)\n",
    "beat_split = beat['beat,neighborhood'].str.split(pat=\",\",\n",
    "                                                 expand=True)\n",
    "beat_split = beat_split.rename(columns={0: \"beat\",\n",
    "                                        1: \"neighborhood\"})\n",
    "beat_split.loc[len(beat_split.index)] = [-1, 'No Beat']\n",
    "beat_split.loc[len(beat_split.index)] = [700, '700'] \n",
    "beat_split.loc[len(beat_split.index)] = [62, '62']\n",
    "beat_split.loc[len(beat_split.index)] = [63, '63']\n",
    "beat_split.loc[len(beat_split.index)] = [64, '64'] \n",
    "beat_split.loc[len(beat_split.index)] = [0, '0'] \n",
    "beat_split.loc[len(beat_split.index)] = [300, '300']\n",
    "beat_split.loc[len(beat_split.index)] = [9, '9'] "
   ]
  },
  {
   "cell_type": "code",
   "execution_count": 9,
   "id": "0909945f",
   "metadata": {},
   "outputs": [],
   "source": [
    "# Create dataframe\n",
    "days = pd.DataFrame({\n",
    "    'day_of_week':list(range(1,8)),\n",
    "    'day':['Sunday','Monday','Tuesday','Wednesday','Thursday','Friday','Saturday'],\n",
    "})"
   ]
  },
  {
   "cell_type": "code",
   "execution_count": 10,
   "id": "1316f407",
   "metadata": {},
   "outputs": [],
   "source": [
    "# df to dict\n",
    "call_type_dict = call_type.to_dict('records')\n",
    "disposition_dict = disposition.to_dict('records')\n",
    "beat_dict = beat_split.to_dict('records')\n",
    "days_dict = days.to_dict('records')"
   ]
  },
  {
   "cell_type": "code",
   "execution_count": 11,
   "id": "c06c397d",
   "metadata": {},
   "outputs": [],
   "source": [
    "# SQL Variable Tables\n",
    "SQL_Tables = pd.DataFrame({\n",
    "    'Table':['Call_types','Dispositions','Beats'],\n",
    "    'Key':['call_type','dispo_code','beat'],\n",
    "    'Col2':['description','description','neighborhood'],\n",
    "    'dict':[call_type_dict,disposition_dict,beat_dict]\n",
    "})\n",
    "SQL_Tables_dict = SQL_Tables.to_dict('records')"
   ]
  },
  {
   "cell_type": "code",
   "execution_count": 12,
   "id": "62922f29",
   "metadata": {},
   "outputs": [],
   "source": [
    "#Load Data\n",
    "def Load_Data(row,cursor,table,Col1,Col2):\n",
    "    # Create a new record\n",
    "    sql = f\"\"\"INSERT INTO {table} ({Col1},\n",
    "                                    {Col2}\n",
    "                                    ) VALUES (%s, %s)\"\"\"\n",
    "\n",
    "    # Execute the query\n",
    "    cursor.execute(sql, (row[Col1],row[Col2]))\n",
    "    cnx.commit()  "
   ]
  },
  {
   "cell_type": "code",
   "execution_count": 13,
   "id": "e3b16e12",
   "metadata": {},
   "outputs": [
    {
     "name": "stderr",
     "output_type": "stream",
     "text": [
      "100%|█████████████████████████████████████████████| 3/3 [00:00<00:00, 12.34it/s]\n"
     ]
    }
   ],
   "source": [
    "for upper_row in tqdm(SQL_Tables_dict):\n",
    "    for row in upper_row['dict']:\n",
    "        Data_Found = Find_Data(row,cursor,\n",
    "                               upper_row['Table'],\n",
    "                               upper_row['Key'])\n",
    "        if Data_Found is None:\n",
    "            #If no data found load \n",
    "            Load_Data(row,\n",
    "                      cursor,\n",
    "                      upper_row['Table'],\n",
    "                      upper_row['Key'],\n",
    "                      upper_row['Col2'])\n",
    "        else:\n",
    "            pass"
   ]
  },
  {
   "cell_type": "markdown",
   "id": "9ffc936e",
   "metadata": {},
   "source": [
    "# Load Historical Calls"
   ]
  },
  {
   "cell_type": "code",
   "execution_count": 14,
   "id": "3eb41267",
   "metadata": {},
   "outputs": [],
   "source": [
    "#function to download yearly data\n",
    "def Get_Data(year):\n",
    "    url = f\"https://seshat.datasd.org/pd/pd_calls_for_service_{year}_datasd.csv\"\n",
    "    df = pd.read_csv(url)\n",
    "    return df"
   ]
  },
  {
   "cell_type": "code",
   "execution_count": 15,
   "id": "e5a268ed",
   "metadata": {},
   "outputs": [
    {
     "data": {
      "text/plain": [
       "[2018, 2019, 2020, 2021, 2022, 2023]"
      ]
     },
     "execution_count": 15,
     "metadata": {},
     "output_type": "execute_result"
    }
   ],
   "source": [
    "Years = list(range(2018,datetime.now().year +1))\n",
    "Years"
   ]
  },
  {
   "cell_type": "markdown",
   "id": "b549ec0c",
   "metadata": {},
   "source": [
    "### Load Calls"
   ]
  },
  {
   "cell_type": "code",
   "execution_count": 81,
   "id": "3d3b293d",
   "metadata": {},
   "outputs": [],
   "source": [
    "#Calls\n",
    "def Load_Calls(row,cursor,table,year):\n",
    "    # Create a new record\n",
    "    sql = f\"\"\"INSERT INTO {table} ( incident_num,\n",
    "                                    incident_date_time,\n",
    "                                    call_type,\n",
    "                                    dispo_code,\n",
    "                                    beat,\n",
    "                                    priority,\n",
    "                                    incident_year\n",
    "                                    ) VALUES (%s,%s,%s,%s,%s,%s,%s)\"\"\"\n",
    "\n",
    "    # Execute the query\n",
    "    cursor.execute(sql, (row['incident_num'],\n",
    "                         row['date_time'],\n",
    "                         row['call_type'],\n",
    "                         row['disposition'],\n",
    "                         row['beat'],\n",
    "                         row['priority'],\n",
    "                         year,\n",
    "                        )\n",
    "                  )\n",
    "    cnx.commit()"
   ]
  },
  {
   "cell_type": "code",
   "execution_count": 82,
   "id": "c1dd63f7",
   "metadata": {},
   "outputs": [],
   "source": [
    "#Calls\n",
    "def Load_Calls_NoBeat(row,cursor,table,year):\n",
    "    # Create a new record\n",
    "    sql = f\"\"\"INSERT INTO {table} ( incident_num,\n",
    "                                    incident_date_time,\n",
    "                                    call_type,\n",
    "                                    dispo_code,\n",
    "                                    beat,\n",
    "                                    priority,\n",
    "                                    incident_year\n",
    "                                    ) VALUES (%s,%s,%s,%s,%s,%s,%s)\"\"\"\n",
    "\n",
    "    # Execute the query\n",
    "    cursor.execute(sql, (row['incident_num'],\n",
    "                         row['date_time'],\n",
    "                         row['call_type'],\n",
    "                         row['disposition'],\n",
    "                         0,\n",
    "                         row['priority'],\n",
    "                         year,\n",
    "                        )\n",
    "                  )\n",
    "    cnx.commit()  "
   ]
  },
  {
   "cell_type": "code",
   "execution_count": 18,
   "id": "27571314",
   "metadata": {},
   "outputs": [
    {
     "name": "stderr",
     "output_type": "stream",
     "text": [
      " 22%|███████▍                         | 127766/570459 [01:11<04:04, 1813.91it/s]"
     ]
    },
    {
     "name": "stdout",
     "output_type": "stream",
     "text": [
      "{'incident_num': 'E18030039305', 'date_time': '2018-03-24 22:57:20', 'day_of_week': 5, 'address_number_primary': 0, 'address_dir_primary': nan, 'address_road_primary': 'SEA BREEZE', 'address_sfx_primary': 'DR', 'address_dir_intersecting': nan, 'address_road_intersecting': 'WINCHESTER', 'address_sfx_intersecting': nan, 'call_type': 'PARTY', 'disposition': 'MOR', 'beat': 438, 'priority': 3}\n"
     ]
    },
    {
     "name": "stderr",
     "output_type": "stream",
     "text": [
      " 32%|██████████▌                      | 183448/570459 [01:41<03:31, 1826.14it/s]"
     ]
    },
    {
     "name": "stdout",
     "output_type": "stream",
     "text": [
      "{'incident_num': 'E18040047752', 'date_time': '2018-04-30 13:41:45', 'day_of_week': 0, 'address_number_primary': 4100, 'address_dir_primary': nan, 'address_road_primary': 'PARK', 'address_sfx_primary': 'BLV', 'address_dir_intersecting': nan, 'address_road_intersecting': nan, 'address_sfx_intersecting': nan, 'call_type': 'HZRD', 'disposition': 'SHO', 'beat': 624, 'priority': 2}\n"
     ]
    },
    {
     "name": "stderr",
     "output_type": "stream",
     "text": [
      " 39%|████████████▉                    | 224535/570459 [02:04<03:12, 1799.49it/s]"
     ]
    },
    {
     "name": "stdout",
     "output_type": "stream",
     "text": [
      "{'incident_num': 'E18050042856', 'date_time': '2018-05-27 09:14:14', 'day_of_week': 6, 'address_number_primary': 1000, 'address_dir_primary': nan, 'address_road_primary': 'EVERGREEN', 'address_sfx_primary': 'ST', 'address_dir_intersecting': nan, 'address_road_intersecting': nan, 'address_sfx_intersecting': nan, 'call_type': '415CN', 'disposition': 'PER', 'beat': 615, 'priority': 3}\n",
      "{'incident_num': 'E18050042919', 'date_time': '2018-05-27 10:05:33', 'day_of_week': 6, 'address_number_primary': 7500, 'address_dir_primary': nan, 'address_road_primary': 'BLACK OAK', 'address_sfx_primary': 'RD', 'address_dir_intersecting': nan, 'address_road_intersecting': nan, 'address_sfx_intersecting': nan, 'call_type': 'MJ', 'disposition': 'JUV', 'beat': 436, 'priority': 1}\n"
     ]
    },
    {
     "name": "stderr",
     "output_type": "stream",
     "text": [
      "100%|█████████████████████████████████| 570459/570459 [05:14<00:00, 1810.98it/s]\n",
      "100%|█████████████████████████████████| 590967/590967 [05:29<00:00, 1792.26it/s]\n",
      "100%|█████████████████████████████████| 567290/567290 [05:15<00:00, 1800.13it/s]\n",
      "100%|█████████████████████████████████| 568947/568947 [03:27<00:00, 2748.12it/s]\n",
      "100%|█████████████████████████████████| 499256/499256 [02:52<00:00, 2896.94it/s]\n",
      "100%|███████████████████████████████████| 54773/54773 [00:18<00:00, 2900.35it/s]\n"
     ]
    }
   ],
   "source": [
    "for year in Years:\n",
    "    yearly_data = Get_Data(year)\n",
    "    yearly_data_dict = yearly_data.to_dict('records')\n",
    "    for row in tqdm(yearly_data_dict):\n",
    "        \n",
    "        #Load Service Calls\n",
    "        Table = 'Service_calls'\n",
    "        Key = 'incident_num'\n",
    "        #Verify if Data is in table\n",
    "        Data_Found = Find_Data(row,cursor,Table,Key)\n",
    "        if Data_Found is None:\n",
    "            #If no data found load\n",
    "            try:\n",
    "                Load_Calls(row,cursor,Table,year)\n",
    "            except:\n",
    "                try:\n",
    "                    Load_Calls_NoBeat(row,cursor,Table,year)\n",
    "                except:\n",
    "                    print(row)\n",
    "                \n",
    "        else:\n",
    "            pass"
   ]
  },
  {
   "cell_type": "markdown",
   "id": "bede5dfa",
   "metadata": {},
   "source": [
    "### Load Address"
   ]
  },
  {
   "cell_type": "code",
   "execution_count": 19,
   "id": "e29c55ee",
   "metadata": {},
   "outputs": [],
   "source": [
    "#Address\n",
    "def Load_Calls_Address(row,cursor,table):\n",
    "    address_list = [row['address_number_primary'],\n",
    "               row['address_dir_primary'],\n",
    "               row['address_road_primary'],\n",
    "               row['address_sfx_primary'],\n",
    "                    'San Diego CA'\n",
    "                   ]\n",
    "    \n",
    "    def concatenate_elements(elements):\n",
    "        result = ''\n",
    "        for element in elements:\n",
    "            if element is not None and not pd.isnull(element) and element != 0:\n",
    "                result += str(element) + ' '\n",
    "        return result.strip()\n",
    "    \n",
    "    \n",
    "    address = concatenate_elements(address_list)\n",
    "    \n",
    "    # Create a new record\n",
    "    sql = f\"\"\"INSERT INTO {table} ( incident_num,\n",
    "                                    address_number_primary,\n",
    "                                    address_dir_primary,\n",
    "                                    address_road_primary,\n",
    "                                    address_sfx_primary,\n",
    "                                    address_dir_intersecting,\n",
    "                                    address_road_intersecting,\n",
    "                                    address_sfx_intersecting,\n",
    "                                    address\n",
    "                                    ) VALUES (%s,%s,%s,%s,%s,%s,%s,%s,%s)\"\"\"\n",
    "\n",
    "    # Execute the query\n",
    "    cursor.execute(sql, (row['incident_num'],\n",
    "                         row['address_number_primary'],\n",
    "                         row['address_dir_primary'],\n",
    "                         row['address_road_primary'],\n",
    "                         row['address_sfx_primary'],\n",
    "                         row['address_dir_intersecting'],\n",
    "                         row['address_road_intersecting'],\n",
    "                         row['address_sfx_intersecting'],\n",
    "                         address\n",
    "                        )\n",
    "                  )\n",
    "    cnx.commit()"
   ]
  },
  {
   "cell_type": "code",
   "execution_count": 20,
   "id": "9690e0b5",
   "metadata": {},
   "outputs": [
    {
     "name": "stderr",
     "output_type": "stream",
     "text": [
      " 22%|███████▍                         | 128015/570459 [00:46<02:40, 2763.95it/s]"
     ]
    },
    {
     "name": "stdout",
     "output_type": "stream",
     "text": [
      "{'incident_num': 'E18030039305', 'date_time': '2018-03-24 22:57:20', 'day_of_week': 5, 'address_number_primary': 0, 'address_dir_primary': nan, 'address_road_primary': 'SEA BREEZE', 'address_sfx_primary': 'DR', 'address_dir_intersecting': nan, 'address_road_intersecting': 'WINCHESTER', 'address_sfx_intersecting': nan, 'call_type': 'PARTY', 'disposition': 'MOR', 'beat': 438, 'priority': 3}\n"
     ]
    },
    {
     "name": "stderr",
     "output_type": "stream",
     "text": [
      " 32%|██████████▌                      | 183640/570459 [01:06<02:21, 2727.85it/s]"
     ]
    },
    {
     "name": "stdout",
     "output_type": "stream",
     "text": [
      "{'incident_num': 'E18040047752', 'date_time': '2018-04-30 13:41:45', 'day_of_week': 0, 'address_number_primary': 4100, 'address_dir_primary': nan, 'address_road_primary': 'PARK', 'address_sfx_primary': 'BLV', 'address_dir_intersecting': nan, 'address_road_intersecting': nan, 'address_sfx_intersecting': nan, 'call_type': 'HZRD', 'disposition': 'SHO', 'beat': 624, 'priority': 2}\n"
     ]
    },
    {
     "name": "stderr",
     "output_type": "stream",
     "text": [
      " 39%|████████████▉                    | 224666/570459 [01:21<02:06, 2731.22it/s]"
     ]
    },
    {
     "name": "stdout",
     "output_type": "stream",
     "text": [
      "{'incident_num': 'E18050042856', 'date_time': '2018-05-27 09:14:14', 'day_of_week': 6, 'address_number_primary': 1000, 'address_dir_primary': nan, 'address_road_primary': 'EVERGREEN', 'address_sfx_primary': 'ST', 'address_dir_intersecting': nan, 'address_road_intersecting': nan, 'address_sfx_intersecting': nan, 'call_type': '415CN', 'disposition': 'PER', 'beat': 615, 'priority': 3}\n",
      "{'incident_num': 'E18050042919', 'date_time': '2018-05-27 10:05:33', 'day_of_week': 6, 'address_number_primary': 7500, 'address_dir_primary': nan, 'address_road_primary': 'BLACK OAK', 'address_sfx_primary': 'RD', 'address_dir_intersecting': nan, 'address_road_intersecting': nan, 'address_sfx_intersecting': nan, 'call_type': 'MJ', 'disposition': 'JUV', 'beat': 436, 'priority': 1}\n"
     ]
    },
    {
     "name": "stderr",
     "output_type": "stream",
     "text": [
      "100%|█████████████████████████████████| 570459/570459 [03:25<00:00, 2773.01it/s]\n",
      "100%|█████████████████████████████████| 590967/590967 [03:35<00:00, 2741.78it/s]\n",
      "100%|█████████████████████████████████| 567290/567290 [03:24<00:00, 2768.92it/s]\n",
      "100%|█████████████████████████████████| 568947/568947 [03:24<00:00, 2781.15it/s]\n",
      "100%|█████████████████████████████████| 499256/499256 [03:00<00:00, 2769.08it/s]\n",
      "100%|███████████████████████████████████| 54773/54773 [00:19<00:00, 2783.09it/s]\n"
     ]
    }
   ],
   "source": [
    "#Load Address\n",
    "for year in Years:\n",
    "    yearly_data = Get_Data(year)\n",
    "    yearly_data_dict = yearly_data.to_dict('records')\n",
    "    for row in tqdm(yearly_data_dict):\n",
    "        #Load Service Calls Address        \n",
    "        Table = 'Address'\n",
    "        Key = 'incident_num'\n",
    "        #Verify if Data is in table\n",
    "        Data_Found = Find_Data(row,cursor,Table,Key)\n",
    "        if Data_Found is None:\n",
    "            #If no data found load\n",
    "            try:\n",
    "                Load_Calls_Address(row,cursor,Table)\n",
    "            except:\n",
    "                print(row)\n",
    "                \n",
    "                \n",
    "        else:\n",
    "            pass"
   ]
  },
  {
   "cell_type": "code",
   "execution_count": 45,
   "id": "c5f9bbfe",
   "metadata": {},
   "outputs": [],
   "source": [
    "#Testing Area\n",
    "import math\n",
    "\n",
    "incident_num = 'E20010005786'\n",
    "address_number_primary = 0\n",
    "address_dir_primary = math.nan\n",
    "address_road_primary = 'BARNETT'\n",
    "address_sfx_primary = 'AVE'\n",
    "address_dir_intersecting = math.nan\n",
    "address_road_intersecting = 'PACIFIC HWY SB ON RAMP'\n",
    "address_sfx_intersecting = math.nan\n",
    "\n",
    "\n",
    "\n",
    "\n",
    "address_list = [address_number_primary,\n",
    "               address_dir_primary,\n",
    "               address_road_primary,\n",
    "               address_sfx_primary,\n",
    "                    'San Diego CA'\n",
    "                   ]\n",
    "    \n",
    "def concatenate_elements(elements):\n",
    "    result = ''\n",
    "    for element in elements:\n",
    "        if element is not None and not pd.isnull(element) and element != 0:\n",
    "            result += str(element) + ' '\n",
    "    return result.strip()\n",
    "\n",
    "\n",
    "address = concatenate_elements(address_list)\n",
    "\n",
    "# Create a new record\n",
    "sql = f\"\"\"INSERT INTO Address( incident_num,\n",
    "                                address_number_primary,\n",
    "                                address_dir_primary,\n",
    "                                address_road_primary,\n",
    "                                address_sfx_primary,\n",
    "                                address_dir_intersecting,\n",
    "                                address_road_intersecting,\n",
    "                                address_sfx_intersecting,\n",
    "                                address\n",
    "                                ) VALUES (%s,%s,%s,%s,%s,%s,%s,%s,%s)\"\"\"\n",
    "\n",
    "# Execute the query\n",
    "cursor.execute(sql, (incident_num,\n",
    "                     address_number_primary,\n",
    "                     address_dir_primary,\n",
    "                     address_road_primary,\n",
    "                     address_sfx_primary,\n",
    "                     address_dir_intersecting,\n",
    "                     address_road_intersecting,\n",
    "                     address_sfx_intersecting,\n",
    "                     address\n",
    "                    )\n",
    "              )\n",
    "cnx.commit()"
   ]
  },
  {
   "cell_type": "markdown",
   "id": "26bd4502",
   "metadata": {},
   "source": [
    "### Lat and Long"
   ]
  },
  {
   "cell_type": "code",
   "execution_count": 67,
   "id": "865723d8",
   "metadata": {},
   "outputs": [],
   "source": [
    "#Connect to DB\n",
    "engine = create_engine(f\"mysql://{user}:{password}@{host}/{database}\")\n",
    "connection = engine.connect()"
   ]
  },
  {
   "cell_type": "code",
   "execution_count": 70,
   "id": "2f284fe2",
   "metadata": {},
   "outputs": [
    {
     "data": {
      "text/plain": [
       "'SDPD_DB'"
      ]
     },
     "execution_count": 70,
     "metadata": {},
     "output_type": "execute_result"
    }
   ],
   "source": [
    "database"
   ]
  },
  {
   "cell_type": "code",
   "execution_count": 71,
   "id": "a1dab429",
   "metadata": {},
   "outputs": [
    {
     "data": {
      "text/plain": [
       "'localhost'"
      ]
     },
     "execution_count": 71,
     "metadata": {},
     "output_type": "execute_result"
    }
   ],
   "source": [
    "host"
   ]
  },
  {
   "cell_type": "code",
   "execution_count": 73,
   "id": "76d60e2b",
   "metadata": {},
   "outputs": [
    {
     "name": "stdout",
     "output_type": "stream",
     "text": [
      "The query took 0.004702091217041016 seconds to execute\n"
     ]
    }
   ],
   "source": [
    "start_time = time.time()\n",
    "result = connection.execute(\n",
    "    \"\"\"\n",
    "    SELECT incident_num,address from Address\n",
    "    order by incident_num desc\n",
    "    limit 5\n",
    "\n",
    "    \"\"\")\n",
    "column_names = result.keys()\n",
    "rows = result.fetchall()\n",
    "result_df = pd.DataFrame(rows, columns=column_names)\n",
    "Address_Book = result_df\n",
    "Address_Book\n",
    "end_time = time.time()\n",
    "query_time_improved = end_time - start_time\n",
    "print(\"The query took %s seconds to execute\" % query_time_improved)"
   ]
  },
  {
   "cell_type": "code",
   "execution_count": 74,
   "id": "88dd051f",
   "metadata": {},
   "outputs": [],
   "source": [
    "def Lat_Long(address):\n",
    "    lat, lng  = None, None\n",
    "    api_key = GOOGLE_API_KEY\n",
    "    base_url = \"https://maps.googleapis.com/maps/api/geocode/json\"\n",
    "    endpoint = f\"{base_url}?address={'4600 ZION AVE'}&key={api_key}\"\n",
    "    r = requests.get(endpoint)\n",
    "    if r.status_code not in range(200, 299):\n",
    "        #error\n",
    "        return None, None\n",
    "    try:\n",
    "        #found\n",
    "        results = r.json()['results'][0]\n",
    "        print(results)\n",
    "        lat = results['geometry']['location']['lat']\n",
    "        lng = results['geometry']['location']['lng']\n",
    "        \n",
    "    except:\n",
    "        pass\n",
    "    return lat, lng\n",
    "\n",
    "def DF_GeoCode(row):\n",
    "    column_name = 'address'\n",
    "    address_value = row[column_name]\n",
    "    address_lat, address_lng = Lat_Long(address_value)\n",
    "    row['lat'] = address_lat\n",
    "    row['lng'] = address_lng\n",
    "    \n",
    "    return row\n",
    "\n",
    "#Lat and Long load\n",
    "def Load_LL(row,cursor,table):\n",
    "    # Create a new record\n",
    "    sql = f\"\"\"INSERT INTO {table} ( incident_num,\n",
    "                                    lat,\n",
    "                                    lng\n",
    "                                    ) VALUES (%s,%s,%s)\"\"\"\n",
    "\n",
    "    # Execute the query\n",
    "    cursor.execute(sql, (row['incident_num'],\n",
    "                         row['lat'],\n",
    "                         row['lng']\n",
    "                        )\n",
    "                  )\n",
    "    cnx.commit() "
   ]
  },
  {
   "cell_type": "code",
   "execution_count": 75,
   "id": "2210731f",
   "metadata": {},
   "outputs": [
    {
     "data": {
      "text/html": [
       "<div>\n",
       "<style scoped>\n",
       "    .dataframe tbody tr th:only-of-type {\n",
       "        vertical-align: middle;\n",
       "    }\n",
       "\n",
       "    .dataframe tbody tr th {\n",
       "        vertical-align: top;\n",
       "    }\n",
       "\n",
       "    .dataframe thead th {\n",
       "        text-align: right;\n",
       "    }\n",
       "</style>\n",
       "<table border=\"1\" class=\"dataframe\">\n",
       "  <thead>\n",
       "    <tr style=\"text-align: right;\">\n",
       "      <th></th>\n",
       "      <th>incident_num</th>\n",
       "      <th>address</th>\n",
       "    </tr>\n",
       "  </thead>\n",
       "  <tbody>\n",
       "    <tr>\n",
       "      <th>0</th>\n",
       "      <td>E23020013812</td>\n",
       "      <td>2500 TORREY PINES RD San Diego CA</td>\n",
       "    </tr>\n",
       "    <tr>\n",
       "      <th>1</th>\n",
       "      <td>E23020013808</td>\n",
       "      <td>7900 FROST ST San Diego CA</td>\n",
       "    </tr>\n",
       "    <tr>\n",
       "      <th>2</th>\n",
       "      <td>E23020013805</td>\n",
       "      <td>EUCLID AVE San Diego CA</td>\n",
       "    </tr>\n",
       "    <tr>\n",
       "      <th>3</th>\n",
       "      <td>E23020013802</td>\n",
       "      <td>1300 COLUMBIA ST San Diego CA</td>\n",
       "    </tr>\n",
       "    <tr>\n",
       "      <th>4</th>\n",
       "      <td>E23020013801</td>\n",
       "      <td>EB 8 San Diego CA</td>\n",
       "    </tr>\n",
       "  </tbody>\n",
       "</table>\n",
       "</div>"
      ],
      "text/plain": [
       "   incident_num                            address\n",
       "0  E23020013812  2500 TORREY PINES RD San Diego CA\n",
       "1  E23020013808         7900 FROST ST San Diego CA\n",
       "2  E23020013805            EUCLID AVE San Diego CA\n",
       "3  E23020013802      1300 COLUMBIA ST San Diego CA\n",
       "4  E23020013801                  EB 8 San Diego CA"
      ]
     },
     "execution_count": 75,
     "metadata": {},
     "output_type": "execute_result"
    }
   ],
   "source": [
    "Address_Book_noN = Address_Book.dropna()\n",
    "Address_Book_noN"
   ]
  },
  {
   "cell_type": "code",
   "execution_count": 82,
   "id": "f8a07888",
   "metadata": {},
   "outputs": [
    {
     "name": "stderr",
     "output_type": "stream",
     "text": [
      "\r",
      "  0%|                                                     | 0/5 [00:00<?, ?it/s]"
     ]
    },
    {
     "name": "stdout",
     "output_type": "stream",
     "text": [
      "Here\n",
      "('E23020013812', Decimal('32.851370'), Decimal('-117.249699'))\n"
     ]
    },
    {
     "name": "stderr",
     "output_type": "stream",
     "text": [
      "\r",
      " 20%|█████████                                    | 1/5 [00:01<00:04,  1.11s/it]"
     ]
    },
    {
     "name": "stdout",
     "output_type": "stream",
     "text": [
      "{'address_components': [{'long_name': '4600', 'short_name': '4600', 'types': ['street_number']}, {'long_name': 'Zion Avenue', 'short_name': 'Zion Ave', 'types': ['route']}, {'long_name': 'Allied Gardens', 'short_name': 'Allied Gardens', 'types': ['neighborhood', 'political']}, {'long_name': 'San Diego', 'short_name': 'San Diego', 'types': ['locality', 'political']}, {'long_name': 'San Diego County', 'short_name': 'San Diego County', 'types': ['administrative_area_level_2', 'political']}, {'long_name': 'California', 'short_name': 'CA', 'types': ['administrative_area_level_1', 'political']}, {'long_name': 'United States', 'short_name': 'US', 'types': ['country', 'political']}, {'long_name': '92120', 'short_name': '92120', 'types': ['postal_code']}], 'formatted_address': '4600 Zion Ave, San Diego, CA 92120, USA', 'geometry': {'location': {'lat': 32.7932986, 'lng': -117.0954507}, 'location_type': 'RANGE_INTERPOLATED', 'viewport': {'northeast': {'lat': 32.7944854302915, 'lng': -117.0941045197085}, 'southwest': {'lat': 32.7917874697085, 'lng': -117.0968024802915}}}, 'place_id': 'Eic0NjAwIFppb24gQXZlLCBTYW4gRGllZ28sIENBIDkyMTIwLCBVU0EiMRIvChQKEglRE-je6VXZgBE0KAY-Dw75jRD4IyoUChIJgyG3A91V2YARSqv5WaSKrwU', 'types': ['street_address']}\n",
      "{'incident_num': 'E23020013812', 'address': '2500 TORREY PINES RD San Diego CA', 'lat': 32.7932986, 'lng': -117.0954507}\n",
      "{'address_components': [{'long_name': '4600', 'short_name': '4600', 'types': ['street_number']}, {'long_name': 'Zion Avenue', 'short_name': 'Zion Ave', 'types': ['route']}, {'long_name': 'Allied Gardens', 'short_name': 'Allied Gardens', 'types': ['neighborhood', 'political']}, {'long_name': 'San Diego', 'short_name': 'San Diego', 'types': ['locality', 'political']}, {'long_name': 'San Diego County', 'short_name': 'San Diego County', 'types': ['administrative_area_level_2', 'political']}, {'long_name': 'California', 'short_name': 'CA', 'types': ['administrative_area_level_1', 'political']}, {'long_name': 'United States', 'short_name': 'US', 'types': ['country', 'political']}, {'long_name': '92120', 'short_name': '92120', 'types': ['postal_code']}], 'formatted_address': '4600 Zion Ave, San Diego, CA 92120, USA', 'geometry': {'location': {'lat': 32.7932986, 'lng': -117.0954507}, 'location_type': 'RANGE_INTERPOLATED', 'viewport': {'northeast': {'lat': 32.7944854302915, 'lng': -117.0941045197085}, 'southwest': {'lat': 32.7917874697085, 'lng': -117.0968024802915}}}, 'place_id': 'Eic0NjAwIFppb24gQXZlLCBTYW4gRGllZ28sIENBIDkyMTIwLCBVU0EiMRIvChQKEglRE-je6VXZgBE0KAY-Dw75jRD4IyoUChIJgyG3A91V2YARSqv5WaSKrwU', 'types': ['street_address']}\n",
      "Here\n",
      "('E23020013808', Decimal('32.800650'), Decimal('-117.154586'))\n"
     ]
    },
    {
     "name": "stderr",
     "output_type": "stream",
     "text": [
      "\r",
      " 40%|██████████████████                           | 2/5 [00:02<00:03,  1.07s/it]"
     ]
    },
    {
     "name": "stdout",
     "output_type": "stream",
     "text": [
      "{'address_components': [{'long_name': '4600', 'short_name': '4600', 'types': ['street_number']}, {'long_name': 'Zion Avenue', 'short_name': 'Zion Ave', 'types': ['route']}, {'long_name': 'Allied Gardens', 'short_name': 'Allied Gardens', 'types': ['neighborhood', 'political']}, {'long_name': 'San Diego', 'short_name': 'San Diego', 'types': ['locality', 'political']}, {'long_name': 'San Diego County', 'short_name': 'San Diego County', 'types': ['administrative_area_level_2', 'political']}, {'long_name': 'California', 'short_name': 'CA', 'types': ['administrative_area_level_1', 'political']}, {'long_name': 'United States', 'short_name': 'US', 'types': ['country', 'political']}, {'long_name': '92120', 'short_name': '92120', 'types': ['postal_code']}], 'formatted_address': '4600 Zion Ave, San Diego, CA 92120, USA', 'geometry': {'location': {'lat': 32.7932986, 'lng': -117.0954507}, 'location_type': 'RANGE_INTERPOLATED', 'viewport': {'northeast': {'lat': 32.7944854302915, 'lng': -117.0941045197085}, 'southwest': {'lat': 32.7917874697085, 'lng': -117.0968024802915}}}, 'place_id': 'Eic0NjAwIFppb24gQXZlLCBTYW4gRGllZ28sIENBIDkyMTIwLCBVU0EiMRIvChQKEglRE-je6VXZgBE0KAY-Dw75jRD4IyoUChIJgyG3A91V2YARSqv5WaSKrwU', 'types': ['street_address']}\n",
      "{'incident_num': 'E23020013808', 'address': '7900 FROST ST San Diego CA', 'lat': 32.7932986, 'lng': -117.0954507}\n",
      "Here\n",
      "('E23020013805', Decimal('32.732951'), Decimal('-117.088323'))\n"
     ]
    },
    {
     "name": "stderr",
     "output_type": "stream",
     "text": [
      "\r",
      " 60%|███████████████████████████                  | 3/5 [00:03<00:02,  1.04s/it]"
     ]
    },
    {
     "name": "stdout",
     "output_type": "stream",
     "text": [
      "{'address_components': [{'long_name': '4600', 'short_name': '4600', 'types': ['street_number']}, {'long_name': 'Zion Avenue', 'short_name': 'Zion Ave', 'types': ['route']}, {'long_name': 'Allied Gardens', 'short_name': 'Allied Gardens', 'types': ['neighborhood', 'political']}, {'long_name': 'San Diego', 'short_name': 'San Diego', 'types': ['locality', 'political']}, {'long_name': 'San Diego County', 'short_name': 'San Diego County', 'types': ['administrative_area_level_2', 'political']}, {'long_name': 'California', 'short_name': 'CA', 'types': ['administrative_area_level_1', 'political']}, {'long_name': 'United States', 'short_name': 'US', 'types': ['country', 'political']}, {'long_name': '92120', 'short_name': '92120', 'types': ['postal_code']}], 'formatted_address': '4600 Zion Ave, San Diego, CA 92120, USA', 'geometry': {'location': {'lat': 32.7932986, 'lng': -117.0954507}, 'location_type': 'RANGE_INTERPOLATED', 'viewport': {'northeast': {'lat': 32.7944854302915, 'lng': -117.0941045197085}, 'southwest': {'lat': 32.7917874697085, 'lng': -117.0968024802915}}}, 'place_id': 'Eic0NjAwIFppb24gQXZlLCBTYW4gRGllZ28sIENBIDkyMTIwLCBVU0EiMRIvChQKEglRE-je6VXZgBE0KAY-Dw75jRD4IyoUChIJgyG3A91V2YARSqv5WaSKrwU', 'types': ['street_address']}\n",
      "{'incident_num': 'E23020013805', 'address': 'EUCLID AVE San Diego CA', 'lat': 32.7932986, 'lng': -117.0954507}\n",
      "{'address_components': [{'long_name': '4600', 'short_name': '4600', 'types': ['street_number']}, {'long_name': 'Zion Avenue', 'short_name': 'Zion Ave', 'types': ['route']}, {'long_name': 'Allied Gardens', 'short_name': 'Allied Gardens', 'types': ['neighborhood', 'political']}, {'long_name': 'San Diego', 'short_name': 'San Diego', 'types': ['locality', 'political']}, {'long_name': 'San Diego County', 'short_name': 'San Diego County', 'types': ['administrative_area_level_2', 'political']}, {'long_name': 'California', 'short_name': 'CA', 'types': ['administrative_area_level_1', 'political']}, {'long_name': 'United States', 'short_name': 'US', 'types': ['country', 'political']}, {'long_name': '92120', 'short_name': '92120', 'types': ['postal_code']}], 'formatted_address': '4600 Zion Ave, San Diego, CA 92120, USA', 'geometry': {'location': {'lat': 32.7932986, 'lng': -117.0954507}, 'location_type': 'RANGE_INTERPOLATED', 'viewport': {'northeast': {'lat': 32.7944854302915, 'lng': -117.0941045197085}, 'southwest': {'lat': 32.7917874697085, 'lng': -117.0968024802915}}}, 'place_id': 'Eic0NjAwIFppb24gQXZlLCBTYW4gRGllZ28sIENBIDkyMTIwLCBVU0EiMRIvChQKEglRE-je6VXZgBE0KAY-Dw75jRD4IyoUChIJgyG3A91V2YARSqv5WaSKrwU', 'types': ['street_address']}\n",
      "Here\n",
      "('E23020013802', Decimal('32.718925'), Decimal('-117.167544'))\n"
     ]
    },
    {
     "name": "stderr",
     "output_type": "stream",
     "text": [
      "\r",
      " 80%|████████████████████████████████████         | 4/5 [00:04<00:01,  1.10s/it]"
     ]
    },
    {
     "name": "stdout",
     "output_type": "stream",
     "text": [
      "{'address_components': [{'long_name': '4600', 'short_name': '4600', 'types': ['street_number']}, {'long_name': 'Zion Avenue', 'short_name': 'Zion Ave', 'types': ['route']}, {'long_name': 'Allied Gardens', 'short_name': 'Allied Gardens', 'types': ['neighborhood', 'political']}, {'long_name': 'San Diego', 'short_name': 'San Diego', 'types': ['locality', 'political']}, {'long_name': 'San Diego County', 'short_name': 'San Diego County', 'types': ['administrative_area_level_2', 'political']}, {'long_name': 'California', 'short_name': 'CA', 'types': ['administrative_area_level_1', 'political']}, {'long_name': 'United States', 'short_name': 'US', 'types': ['country', 'political']}, {'long_name': '92120', 'short_name': '92120', 'types': ['postal_code']}], 'formatted_address': '4600 Zion Ave, San Diego, CA 92120, USA', 'geometry': {'location': {'lat': 32.7932986, 'lng': -117.0954507}, 'location_type': 'RANGE_INTERPOLATED', 'viewport': {'northeast': {'lat': 32.7944854302915, 'lng': -117.0941045197085}, 'southwest': {'lat': 32.7917874697085, 'lng': -117.0968024802915}}}, 'place_id': 'Eic0NjAwIFppb24gQXZlLCBTYW4gRGllZ28sIENBIDkyMTIwLCBVU0EiMRIvChQKEglRE-je6VXZgBE0KAY-Dw75jRD4IyoUChIJgyG3A91V2YARSqv5WaSKrwU', 'types': ['street_address']}\n",
      "{'incident_num': 'E23020013802', 'address': '1300 COLUMBIA ST San Diego CA', 'lat': 32.7932986, 'lng': -117.0954507}\n",
      "{'address_components': [{'long_name': '4600', 'short_name': '4600', 'types': ['street_number']}, {'long_name': 'Zion Avenue', 'short_name': 'Zion Ave', 'types': ['route']}, {'long_name': 'Allied Gardens', 'short_name': 'Allied Gardens', 'types': ['neighborhood', 'political']}, {'long_name': 'San Diego', 'short_name': 'San Diego', 'types': ['locality', 'political']}, {'long_name': 'San Diego County', 'short_name': 'San Diego County', 'types': ['administrative_area_level_2', 'political']}, {'long_name': 'California', 'short_name': 'CA', 'types': ['administrative_area_level_1', 'political']}, {'long_name': 'United States', 'short_name': 'US', 'types': ['country', 'political']}, {'long_name': '92120', 'short_name': '92120', 'types': ['postal_code']}], 'formatted_address': '4600 Zion Ave, San Diego, CA 92120, USA', 'geometry': {'location': {'lat': 32.7932986, 'lng': -117.0954507}, 'location_type': 'RANGE_INTERPOLATED', 'viewport': {'northeast': {'lat': 32.7944854302915, 'lng': -117.0941045197085}, 'southwest': {'lat': 32.7917874697085, 'lng': -117.0968024802915}}}, 'place_id': 'Eic0NjAwIFppb24gQXZlLCBTYW4gRGllZ28sIENBIDkyMTIwLCBVU0EiMRIvChQKEglRE-je6VXZgBE0KAY-Dw75jRD4IyoUChIJgyG3A91V2YARSqv5WaSKrwU', 'types': ['street_address']}\n",
      "Here\n",
      "('E23020013801', Decimal('32.728722'), Decimal('-117.157554'))\n"
     ]
    },
    {
     "name": "stderr",
     "output_type": "stream",
     "text": [
      "100%|█████████████████████████████████████████████| 5/5 [00:05<00:00,  1.07s/it]"
     ]
    },
    {
     "name": "stdout",
     "output_type": "stream",
     "text": [
      "{'address_components': [{'long_name': '4600', 'short_name': '4600', 'types': ['street_number']}, {'long_name': 'Zion Avenue', 'short_name': 'Zion Ave', 'types': ['route']}, {'long_name': 'Allied Gardens', 'short_name': 'Allied Gardens', 'types': ['neighborhood', 'political']}, {'long_name': 'San Diego', 'short_name': 'San Diego', 'types': ['locality', 'political']}, {'long_name': 'San Diego County', 'short_name': 'San Diego County', 'types': ['administrative_area_level_2', 'political']}, {'long_name': 'California', 'short_name': 'CA', 'types': ['administrative_area_level_1', 'political']}, {'long_name': 'United States', 'short_name': 'US', 'types': ['country', 'political']}, {'long_name': '92120', 'short_name': '92120', 'types': ['postal_code']}], 'formatted_address': '4600 Zion Ave, San Diego, CA 92120, USA', 'geometry': {'location': {'lat': 32.7932986, 'lng': -117.0954507}, 'location_type': 'RANGE_INTERPOLATED', 'viewport': {'northeast': {'lat': 32.7944854302915, 'lng': -117.0941045197085}, 'southwest': {'lat': 32.7917874697085, 'lng': -117.0968024802915}}}, 'place_id': 'Eic0NjAwIFppb24gQXZlLCBTYW4gRGllZ28sIENBIDkyMTIwLCBVU0EiMRIvChQKEglRE-je6VXZgBE0KAY-Dw75jRD4IyoUChIJgyG3A91V2YARSqv5WaSKrwU', 'types': ['street_address']}\n",
      "{'incident_num': 'E23020013801', 'address': 'EB 8 San Diego CA', 'lat': 32.7932986, 'lng': -117.0954507}\n"
     ]
    },
    {
     "name": "stderr",
     "output_type": "stream",
     "text": [
      "\n"
     ]
    }
   ],
   "source": [
    "Address_Book_dict = Address_Book_noN.to_dict('records')\n",
    "for row in tqdm(Address_Book_dict):\n",
    "    Data_Found = Find_Data(DF_GeoCode(row),\n",
    "                           cursor,\n",
    "                           'geolocations',\n",
    "                           'incident_num')\n",
    "    print('Here')\n",
    "    print(Data_Found)\n",
    "    print(DF_GeoCode(row))\n",
    "    if Data_Found is None:\n",
    "        try:\n",
    "            print(DF_GeoCode(row))\n",
    "            #Load_LL(DF_GeoCode(row),\n",
    "             #       cursor,\n",
    "              #      'GeoLocations')\n",
    "        except:\n",
    "            print(row)\n"
   ]
  },
  {
   "cell_type": "markdown",
   "id": "263f8b31",
   "metadata": {},
   "source": [
    "### ZipCode"
   ]
  },
  {
   "cell_type": "code",
   "execution_count": 7,
   "id": "0c3e158a",
   "metadata": {},
   "outputs": [
    {
     "data": {
      "text/html": [
       "<div>\n",
       "<style scoped>\n",
       "    .dataframe tbody tr th:only-of-type {\n",
       "        vertical-align: middle;\n",
       "    }\n",
       "\n",
       "    .dataframe tbody tr th {\n",
       "        vertical-align: top;\n",
       "    }\n",
       "\n",
       "    .dataframe thead th {\n",
       "        text-align: right;\n",
       "    }\n",
       "</style>\n",
       "<table border=\"1\" class=\"dataframe\">\n",
       "  <thead>\n",
       "    <tr style=\"text-align: right;\">\n",
       "      <th></th>\n",
       "      <th>incident_num</th>\n",
       "      <th>lat</th>\n",
       "      <th>lng</th>\n",
       "    </tr>\n",
       "  </thead>\n",
       "  <tbody>\n",
       "    <tr>\n",
       "      <th>0</th>\n",
       "      <td>E18010000001</td>\n",
       "      <td>32.759030</td>\n",
       "      <td>-117.116806</td>\n",
       "    </tr>\n",
       "    <tr>\n",
       "      <th>1</th>\n",
       "      <td>E18010000002</td>\n",
       "      <td>32.692819</td>\n",
       "      <td>-117.129957</td>\n",
       "    </tr>\n",
       "    <tr>\n",
       "      <th>2</th>\n",
       "      <td>E18010000003</td>\n",
       "      <td>32.793443</td>\n",
       "      <td>-117.255729</td>\n",
       "    </tr>\n",
       "    <tr>\n",
       "      <th>3</th>\n",
       "      <td>E18010000004</td>\n",
       "      <td>32.712896</td>\n",
       "      <td>-117.097859</td>\n",
       "    </tr>\n",
       "    <tr>\n",
       "      <th>4</th>\n",
       "      <td>E18010000005</td>\n",
       "      <td>32.731232</td>\n",
       "      <td>-117.161241</td>\n",
       "    </tr>\n",
       "    <tr>\n",
       "      <th>...</th>\n",
       "      <td>...</td>\n",
       "      <td>...</td>\n",
       "      <td>...</td>\n",
       "    </tr>\n",
       "    <tr>\n",
       "      <th>55418</th>\n",
       "      <td>E23020013801</td>\n",
       "      <td>32.728722</td>\n",
       "      <td>-117.157554</td>\n",
       "    </tr>\n",
       "    <tr>\n",
       "      <th>55419</th>\n",
       "      <td>E23020013802</td>\n",
       "      <td>32.718925</td>\n",
       "      <td>-117.167544</td>\n",
       "    </tr>\n",
       "    <tr>\n",
       "      <th>55420</th>\n",
       "      <td>E23020013805</td>\n",
       "      <td>32.732951</td>\n",
       "      <td>-117.088323</td>\n",
       "    </tr>\n",
       "    <tr>\n",
       "      <th>55421</th>\n",
       "      <td>E23020013808</td>\n",
       "      <td>32.800650</td>\n",
       "      <td>-117.154586</td>\n",
       "    </tr>\n",
       "    <tr>\n",
       "      <th>55422</th>\n",
       "      <td>E23020013812</td>\n",
       "      <td>32.851370</td>\n",
       "      <td>-117.249699</td>\n",
       "    </tr>\n",
       "  </tbody>\n",
       "</table>\n",
       "<p>55423 rows × 3 columns</p>\n",
       "</div>"
      ],
      "text/plain": [
       "       incident_num        lat          lng\n",
       "0      E18010000001  32.759030  -117.116806\n",
       "1      E18010000002  32.692819  -117.129957\n",
       "2      E18010000003  32.793443  -117.255729\n",
       "3      E18010000004  32.712896  -117.097859\n",
       "4      E18010000005  32.731232  -117.161241\n",
       "...             ...        ...          ...\n",
       "55418  E23020013801  32.728722  -117.157554\n",
       "55419  E23020013802  32.718925  -117.167544\n",
       "55420  E23020013805  32.732951  -117.088323\n",
       "55421  E23020013808  32.800650  -117.154586\n",
       "55422  E23020013812  32.851370  -117.249699\n",
       "\n",
       "[55423 rows x 3 columns]"
      ]
     },
     "execution_count": 7,
     "metadata": {},
     "output_type": "execute_result"
    }
   ],
   "source": [
    "#Get Zipcodes\n",
    "result = connection.execute(\n",
    "    \"\"\"\n",
    "    SELECT incident_num,lat,lng from GeoLocations\n",
    "\n",
    "\n",
    "    \"\"\")\n",
    "column_names = result.keys()\n",
    "rows = result.fetchall()\n",
    "ZipCode_Book = pd.DataFrame(rows, columns=column_names)\n",
    "ZipCode_Book = ZipCode_Book.dropna()\n",
    "ZipCode_Book"
   ]
  },
  {
   "cell_type": "code",
   "execution_count": 8,
   "id": "f416077c",
   "metadata": {},
   "outputs": [],
   "source": [
    "#Functions\n",
    "def get_zipcode(df, geolocator, lat_field, lon_field):\n",
    "    try:\n",
    "        location = geolocator.reverse((df[lat_field], df[lon_field]))\n",
    "    #print(location)\n",
    "        df['Zipcode'] = location.raw['address']['postcode']\n",
    "    except:\n",
    "        df['Zipcode'] = 0\n",
    "    #print('Error')\n",
    "    #print(df)\n",
    "    return df\n",
    "\n",
    "#Lat and Long\n",
    "def Load_Zipcode(row,cursor,table):\n",
    "    # Create a new record\n",
    "    sql = f\"\"\"INSERT INTO {table} ( incident_num,\n",
    "                                    Zipcode\n",
    "                                    ) VALUES (%s,%s)\"\"\"\n",
    "\n",
    "    # Execute the query\n",
    "    cursor.execute(sql, (row['incident_num'],\n",
    "                         row['Zipcode']\n",
    "                        )\n",
    "                  )\n",
    "    cnx.commit()"
   ]
  },
  {
   "cell_type": "code",
   "execution_count": 9,
   "id": "8e5f50c8",
   "metadata": {},
   "outputs": [
    {
     "data": {
      "text/plain": [
       "{'incident_num': 'E18010000723', 'lat': '32.714798', 'lng': '-117.161265'}"
      ]
     },
     "execution_count": 9,
     "metadata": {},
     "output_type": "execute_result"
    }
   ],
   "source": [
    "row_test = {'incident_num': 'E18010000723', 'lat': '32.714798', 'lng': '-117.161265'}\n",
    "row_test"
   ]
  },
  {
   "cell_type": "code",
   "execution_count": 10,
   "id": "a0a7ac48",
   "metadata": {},
   "outputs": [
    {
     "data": {
      "text/plain": [
       "{'incident_num': 'E18010000723',\n",
       " 'lat': '32.714798',\n",
       " 'lng': '-117.161265',\n",
       " 'Zipcode': 0}"
      ]
     },
     "execution_count": 10,
     "metadata": {},
     "output_type": "execute_result"
    }
   ],
   "source": [
    "get_zipcode(row_test,geolocator=geolocator,lat_field='lat',lon_field='lng')"
   ]
  },
  {
   "cell_type": "code",
   "execution_count": 11,
   "id": "dab55ed1",
   "metadata": {},
   "outputs": [
    {
     "name": "stderr",
     "output_type": "stream",
     "text": [
      "100%|███████████████████████████████████| 55423/55423 [7:33:52<00:00,  2.04it/s]\n"
     ]
    }
   ],
   "source": [
    "for row in tqdm(ZipCode_Book.to_dict('records')):\n",
    "    Data_Found = Find_Data(row,\n",
    "                           cursor,\n",
    "                           'Zipcodes',\n",
    "                           'incident_num')\n",
    "\n",
    "    if Data_Found is None:\n",
    "        #If no data found load \n",
    "        try:\n",
    "            Load_Zipcode(get_zipcode(row,\n",
    "                            geolocator=geolocator,\n",
    "                                     lat_field='lat',\n",
    "                                     lon_field='lng'\n",
    "                                    ),\n",
    "                      cursor,\n",
    "                      'Zipcodes')\n",
    "        except:\n",
    "            print(row)\n",
    "    else:\n",
    "        pass"
   ]
  },
  {
   "cell_type": "code",
   "execution_count": 58,
   "id": "85b57fd6",
   "metadata": {},
   "outputs": [
    {
     "data": {
      "text/html": [
       "<div>\n",
       "<style scoped>\n",
       "    .dataframe tbody tr th:only-of-type {\n",
       "        vertical-align: middle;\n",
       "    }\n",
       "\n",
       "    .dataframe tbody tr th {\n",
       "        vertical-align: top;\n",
       "    }\n",
       "\n",
       "    .dataframe thead th {\n",
       "        text-align: right;\n",
       "    }\n",
       "</style>\n",
       "<table border=\"1\" class=\"dataframe\">\n",
       "  <thead>\n",
       "    <tr style=\"text-align: right;\">\n",
       "      <th></th>\n",
       "      <th>incident_num</th>\n",
       "      <th>lat</th>\n",
       "      <th>lng</th>\n",
       "      <th>Zipcode</th>\n",
       "    </tr>\n",
       "  </thead>\n",
       "  <tbody>\n",
       "    <tr>\n",
       "      <th>0</th>\n",
       "      <td>E18010000001</td>\n",
       "      <td>32.759030</td>\n",
       "      <td>-117.116806</td>\n",
       "      <td>92116</td>\n",
       "    </tr>\n",
       "    <tr>\n",
       "      <th>1</th>\n",
       "      <td>E18010000002</td>\n",
       "      <td>32.692819</td>\n",
       "      <td>-117.129957</td>\n",
       "      <td>92136</td>\n",
       "    </tr>\n",
       "    <tr>\n",
       "      <th>2</th>\n",
       "      <td>E18010000003</td>\n",
       "      <td>32.793443</td>\n",
       "      <td>-117.255729</td>\n",
       "      <td>92109</td>\n",
       "    </tr>\n",
       "    <tr>\n",
       "      <th>3</th>\n",
       "      <td>E18010000004</td>\n",
       "      <td>32.712896</td>\n",
       "      <td>-117.097859</td>\n",
       "      <td>92102</td>\n",
       "    </tr>\n",
       "    <tr>\n",
       "      <th>4</th>\n",
       "      <td>E18010000005</td>\n",
       "      <td>32.731232</td>\n",
       "      <td>-117.161241</td>\n",
       "      <td>92101</td>\n",
       "    </tr>\n",
       "    <tr>\n",
       "      <th>...</th>\n",
       "      <td>...</td>\n",
       "      <td>...</td>\n",
       "      <td>...</td>\n",
       "      <td>...</td>\n",
       "    </tr>\n",
       "    <tr>\n",
       "      <th>995</th>\n",
       "      <td>E18010001067</td>\n",
       "      <td>32.835232</td>\n",
       "      <td>-117.178724</td>\n",
       "      <td>92117</td>\n",
       "    </tr>\n",
       "    <tr>\n",
       "      <th>996</th>\n",
       "      <td>E18010001068</td>\n",
       "      <td>32.893766</td>\n",
       "      <td>-117.201996</td>\n",
       "      <td>92121</td>\n",
       "    </tr>\n",
       "    <tr>\n",
       "      <th>997</th>\n",
       "      <td>E18010001069</td>\n",
       "      <td>32.929823</td>\n",
       "      <td>-117.195305</td>\n",
       "      <td>92130</td>\n",
       "    </tr>\n",
       "    <tr>\n",
       "      <th>998</th>\n",
       "      <td>E18010001070</td>\n",
       "      <td>32.803102</td>\n",
       "      <td>-117.010562</td>\n",
       "      <td>92119</td>\n",
       "    </tr>\n",
       "    <tr>\n",
       "      <th>999</th>\n",
       "      <td>E18010001071</td>\n",
       "      <td>32.698334</td>\n",
       "      <td>-117.129855</td>\n",
       "      <td>92113</td>\n",
       "    </tr>\n",
       "  </tbody>\n",
       "</table>\n",
       "<p>1000 rows × 4 columns</p>\n",
       "</div>"
      ],
      "text/plain": [
       "     incident_num        lat          lng Zipcode\n",
       "0    E18010000001  32.759030  -117.116806   92116\n",
       "1    E18010000002  32.692819  -117.129957   92136\n",
       "2    E18010000003  32.793443  -117.255729   92109\n",
       "3    E18010000004  32.712896  -117.097859   92102\n",
       "4    E18010000005  32.731232  -117.161241   92101\n",
       "..            ...        ...          ...     ...\n",
       "995  E18010001067  32.835232  -117.178724   92117\n",
       "996  E18010001068  32.893766  -117.201996   92121\n",
       "997  E18010001069  32.929823  -117.195305   92130\n",
       "998  E18010001070  32.803102  -117.010562   92119\n",
       "999  E18010001071  32.698334  -117.129855   92113\n",
       "\n",
       "[1000 rows x 4 columns]"
      ]
     },
     "execution_count": 58,
     "metadata": {},
     "output_type": "execute_result"
    }
   ],
   "source": [
    "ZipCode_Book['Zipcode'] = zipcodes\n",
    "ZipCode_Book"
   ]
  },
  {
   "cell_type": "code",
   "execution_count": null,
   "id": "cc7d2b28",
   "metadata": {},
   "outputs": [],
   "source": [
    "zipcodes = ZipCode_Book.apply(get_zipcode,\n",
    "                            axis=1,\n",
    "                            geolocator=geolocator,\n",
    "                            lat_field='lat',\n",
    "                            lon_field='lng'\n",
    "                           )"
   ]
  },
  {
   "cell_type": "markdown",
   "id": "247a59a4",
   "metadata": {},
   "source": [
    "***"
   ]
  },
  {
   "cell_type": "markdown",
   "id": "ecfb044b",
   "metadata": {},
   "source": [
    "# Download Data from local"
   ]
  },
  {
   "cell_type": "code",
   "execution_count": 175,
   "id": "7e07450e",
   "metadata": {},
   "outputs": [],
   "source": [
    "database = \"SDPD_DB\"\n",
    "user = 'root'\n",
    "password = 'XXXXX'\n",
    "host = 'localhost'"
   ]
  },
  {
   "cell_type": "code",
   "execution_count": 176,
   "id": "8d5c3ce5",
   "metadata": {},
   "outputs": [],
   "source": [
    "#Initial Connection\n",
    "cnx = mysql.connector.connect(user=user,\n",
    "                              password=password,\n",
    "                              host=host,\n",
    "                              database=database\n",
    "                              )\n",
    "cursor = cnx.cursor()"
   ]
  },
  {
   "cell_type": "code",
   "execution_count": 177,
   "id": "e3d2514c",
   "metadata": {},
   "outputs": [],
   "source": [
    "#Connect to DB\n",
    "engine = create_engine(f\"mysql://{user}:{password}@{host}/{database}\")\n",
    "connection = engine.connect()"
   ]
  },
  {
   "cell_type": "code",
   "execution_count": 173,
   "id": "1af06f45",
   "metadata": {},
   "outputs": [],
   "source": [
    "#Get all date\n",
    "def get_all_data(table):\n",
    "    result = connection.execute(\n",
    "        f\"\"\"\n",
    "        SELECT * from {table}\n",
    "        \n",
    "        \"\"\")\n",
    "    column_names = result.keys()\n",
    "    rows = result.fetchall()\n",
    "    df = pd.DataFrame(rows, columns=column_names)\n",
    "    #df = df.dropna()\n",
    "    return df"
   ]
  },
  {
   "cell_type": "code",
   "execution_count": 74,
   "id": "d625758f",
   "metadata": {},
   "outputs": [
    {
     "data": {
      "text/html": [
       "<div>\n",
       "<style scoped>\n",
       "    .dataframe tbody tr th:only-of-type {\n",
       "        vertical-align: middle;\n",
       "    }\n",
       "\n",
       "    .dataframe tbody tr th {\n",
       "        vertical-align: top;\n",
       "    }\n",
       "\n",
       "    .dataframe thead th {\n",
       "        text-align: right;\n",
       "    }\n",
       "</style>\n",
       "<table border=\"1\" class=\"dataframe\">\n",
       "  <thead>\n",
       "    <tr style=\"text-align: right;\">\n",
       "      <th></th>\n",
       "      <th>incident_num</th>\n",
       "      <th>incident_date_time</th>\n",
       "      <th>call_type</th>\n",
       "      <th>dispo_code</th>\n",
       "      <th>beat</th>\n",
       "      <th>priority</th>\n",
       "      <th>incident_year</th>\n",
       "    </tr>\n",
       "  </thead>\n",
       "  <tbody>\n",
       "    <tr>\n",
       "      <th>0</th>\n",
       "      <td>E18010000001</td>\n",
       "      <td>2018-01-01 00:00:09</td>\n",
       "      <td>FD</td>\n",
       "      <td>K</td>\n",
       "      <td>624</td>\n",
       "      <td>2</td>\n",
       "      <td>2018</td>\n",
       "    </tr>\n",
       "    <tr>\n",
       "      <th>1</th>\n",
       "      <td>E18010000002</td>\n",
       "      <td>2018-01-01 00:00:41</td>\n",
       "      <td>AU1</td>\n",
       "      <td>W</td>\n",
       "      <td>511</td>\n",
       "      <td>1</td>\n",
       "      <td>2018</td>\n",
       "    </tr>\n",
       "    <tr>\n",
       "      <th>2</th>\n",
       "      <td>E18010000003</td>\n",
       "      <td>2018-01-01 00:00:52</td>\n",
       "      <td>1016</td>\n",
       "      <td>A</td>\n",
       "      <td>122</td>\n",
       "      <td>2</td>\n",
       "      <td>2018</td>\n",
       "    </tr>\n",
       "    <tr>\n",
       "      <th>3</th>\n",
       "      <td>E18010000004</td>\n",
       "      <td>2018-01-01 00:00:55</td>\n",
       "      <td>AU1</td>\n",
       "      <td>W</td>\n",
       "      <td>445</td>\n",
       "      <td>1</td>\n",
       "      <td>2018</td>\n",
       "    </tr>\n",
       "    <tr>\n",
       "      <th>4</th>\n",
       "      <td>E18010000005</td>\n",
       "      <td>2018-01-01 00:00:56</td>\n",
       "      <td>1151</td>\n",
       "      <td>O</td>\n",
       "      <td>523</td>\n",
       "      <td>3</td>\n",
       "      <td>2018</td>\n",
       "    </tr>\n",
       "    <tr>\n",
       "      <th>...</th>\n",
       "      <td>...</td>\n",
       "      <td>...</td>\n",
       "      <td>...</td>\n",
       "      <td>...</td>\n",
       "      <td>...</td>\n",
       "      <td>...</td>\n",
       "      <td>...</td>\n",
       "    </tr>\n",
       "    <tr>\n",
       "      <th>2851683</th>\n",
       "      <td>E23020013801</td>\n",
       "      <td>2023-02-09 23:43:55</td>\n",
       "      <td>T</td>\n",
       "      <td>K</td>\n",
       "      <td>623</td>\n",
       "      <td>2</td>\n",
       "      <td>2023</td>\n",
       "    </tr>\n",
       "    <tr>\n",
       "      <th>2851684</th>\n",
       "      <td>E23020013802</td>\n",
       "      <td>2023-02-09 23:44:48</td>\n",
       "      <td>FU</td>\n",
       "      <td>K</td>\n",
       "      <td>524</td>\n",
       "      <td>2</td>\n",
       "      <td>2023</td>\n",
       "    </tr>\n",
       "    <tr>\n",
       "      <th>2851685</th>\n",
       "      <td>E23020013805</td>\n",
       "      <td>2023-02-09 23:49:20</td>\n",
       "      <td>T</td>\n",
       "      <td>O</td>\n",
       "      <td>828</td>\n",
       "      <td>2</td>\n",
       "      <td>2023</td>\n",
       "    </tr>\n",
       "    <tr>\n",
       "      <th>2851686</th>\n",
       "      <td>E23020013808</td>\n",
       "      <td>2023-02-09 23:53:22</td>\n",
       "      <td>911</td>\n",
       "      <td>CAN</td>\n",
       "      <td>314</td>\n",
       "      <td>1</td>\n",
       "      <td>2023</td>\n",
       "    </tr>\n",
       "    <tr>\n",
       "      <th>2851687</th>\n",
       "      <td>E23020013812</td>\n",
       "      <td>2023-02-09 23:56:48</td>\n",
       "      <td>911</td>\n",
       "      <td>CAN</td>\n",
       "      <td>124</td>\n",
       "      <td>1</td>\n",
       "      <td>2023</td>\n",
       "    </tr>\n",
       "  </tbody>\n",
       "</table>\n",
       "<p>2838197 rows × 7 columns</p>\n",
       "</div>"
      ],
      "text/plain": [
       "         incident_num  incident_date_time call_type dispo_code  beat  \\\n",
       "0        E18010000001 2018-01-01 00:00:09        FD          K   624   \n",
       "1        E18010000002 2018-01-01 00:00:41       AU1          W   511   \n",
       "2        E18010000003 2018-01-01 00:00:52      1016          A   122   \n",
       "3        E18010000004 2018-01-01 00:00:55       AU1          W   445   \n",
       "4        E18010000005 2018-01-01 00:00:56      1151          O   523   \n",
       "...               ...                 ...       ...        ...   ...   \n",
       "2851683  E23020013801 2023-02-09 23:43:55         T          K   623   \n",
       "2851684  E23020013802 2023-02-09 23:44:48        FU          K   524   \n",
       "2851685  E23020013805 2023-02-09 23:49:20         T          O   828   \n",
       "2851686  E23020013808 2023-02-09 23:53:22       911        CAN   314   \n",
       "2851687  E23020013812 2023-02-09 23:56:48       911        CAN   124   \n",
       "\n",
       "         priority  incident_year  \n",
       "0               2           2018  \n",
       "1               1           2018  \n",
       "2               2           2018  \n",
       "3               1           2018  \n",
       "4               3           2018  \n",
       "...           ...            ...  \n",
       "2851683         2           2023  \n",
       "2851684         2           2023  \n",
       "2851685         2           2023  \n",
       "2851686         1           2023  \n",
       "2851687         1           2023  \n",
       "\n",
       "[2838197 rows x 7 columns]"
      ]
     },
     "execution_count": 74,
     "metadata": {},
     "output_type": "execute_result"
    }
   ],
   "source": [
    "zipcode_df = get_all_data('Zipcodes')\n",
    "GeoLocations_df = get_all_data('GeoLocations')\n",
    "Call_types_df = get_all_data('Call_types')\n",
    "Dispositions_df = get_all_data('Dispositions')\n",
    "Beats_df = get_all_data('Beats')\n",
    "Service_calls_df = get_all_data('Service_calls')\n",
    "Service_calls_df"
   ]
  },
  {
   "cell_type": "code",
   "execution_count": 178,
   "id": "d12db237",
   "metadata": {},
   "outputs": [
    {
     "data": {
      "text/html": [
       "<div>\n",
       "<style scoped>\n",
       "    .dataframe tbody tr th:only-of-type {\n",
       "        vertical-align: middle;\n",
       "    }\n",
       "\n",
       "    .dataframe tbody tr th {\n",
       "        vertical-align: top;\n",
       "    }\n",
       "\n",
       "    .dataframe thead th {\n",
       "        text-align: right;\n",
       "    }\n",
       "</style>\n",
       "<table border=\"1\" class=\"dataframe\">\n",
       "  <thead>\n",
       "    <tr style=\"text-align: right;\">\n",
       "      <th></th>\n",
       "      <th>incident_num</th>\n",
       "      <th>address_number_primary</th>\n",
       "      <th>address_dir_primary</th>\n",
       "      <th>address_road_primary</th>\n",
       "      <th>address_sfx_primary</th>\n",
       "      <th>address_dir_intersecting</th>\n",
       "      <th>address_road_intersecting</th>\n",
       "      <th>address_sfx_intersecting</th>\n",
       "      <th>address</th>\n",
       "    </tr>\n",
       "  </thead>\n",
       "  <tbody>\n",
       "    <tr>\n",
       "      <th>0</th>\n",
       "      <td>E18010000001</td>\n",
       "      <td>0</td>\n",
       "      <td>None</td>\n",
       "      <td>MONROE</td>\n",
       "      <td>AVE</td>\n",
       "      <td>None</td>\n",
       "      <td>PARK</td>\n",
       "      <td>None</td>\n",
       "      <td>MONROE AVE San Diego CA</td>\n",
       "    </tr>\n",
       "    <tr>\n",
       "      <th>1</th>\n",
       "      <td>E18010000002</td>\n",
       "      <td>0</td>\n",
       "      <td>None</td>\n",
       "      <td>MAIN</td>\n",
       "      <td>ST</td>\n",
       "      <td>None</td>\n",
       "      <td>THOR</td>\n",
       "      <td>None</td>\n",
       "      <td>MAIN ST San Diego CA</td>\n",
       "    </tr>\n",
       "    <tr>\n",
       "      <th>2</th>\n",
       "      <td>E18010000003</td>\n",
       "      <td>4300</td>\n",
       "      <td>None</td>\n",
       "      <td>OCEAN</td>\n",
       "      <td>BLV</td>\n",
       "      <td>None</td>\n",
       "      <td>None</td>\n",
       "      <td>None</td>\n",
       "      <td>4300 OCEAN BLV San Diego CA</td>\n",
       "    </tr>\n",
       "    <tr>\n",
       "      <th>3</th>\n",
       "      <td>E18010000004</td>\n",
       "      <td>4500</td>\n",
       "      <td>None</td>\n",
       "      <td>BOYLSTON</td>\n",
       "      <td>ST</td>\n",
       "      <td>None</td>\n",
       "      <td>None</td>\n",
       "      <td>None</td>\n",
       "      <td>4500 BOYLSTON ST San Diego CA</td>\n",
       "    </tr>\n",
       "    <tr>\n",
       "      <th>4</th>\n",
       "      <td>E18010000005</td>\n",
       "      <td>0</td>\n",
       "      <td>None</td>\n",
       "      <td>04TH</td>\n",
       "      <td>AVE</td>\n",
       "      <td>None</td>\n",
       "      <td>ISLAND</td>\n",
       "      <td>None</td>\n",
       "      <td>04TH AVE San Diego CA</td>\n",
       "    </tr>\n",
       "    <tr>\n",
       "      <th>...</th>\n",
       "      <td>...</td>\n",
       "      <td>...</td>\n",
       "      <td>...</td>\n",
       "      <td>...</td>\n",
       "      <td>...</td>\n",
       "      <td>...</td>\n",
       "      <td>...</td>\n",
       "      <td>...</td>\n",
       "      <td>...</td>\n",
       "    </tr>\n",
       "    <tr>\n",
       "      <th>2851683</th>\n",
       "      <td>E23020013801</td>\n",
       "      <td>0</td>\n",
       "      <td>EB</td>\n",
       "      <td>8</td>\n",
       "      <td>None</td>\n",
       "      <td>None</td>\n",
       "      <td>TAYLOR</td>\n",
       "      <td>None</td>\n",
       "      <td>EB 8 San Diego CA</td>\n",
       "    </tr>\n",
       "    <tr>\n",
       "      <th>2851684</th>\n",
       "      <td>E23020013802</td>\n",
       "      <td>1300</td>\n",
       "      <td>None</td>\n",
       "      <td>COLUMBIA</td>\n",
       "      <td>ST</td>\n",
       "      <td>None</td>\n",
       "      <td>None</td>\n",
       "      <td>None</td>\n",
       "      <td>1300 COLUMBIA ST San Diego CA</td>\n",
       "    </tr>\n",
       "    <tr>\n",
       "      <th>2851685</th>\n",
       "      <td>E23020013805</td>\n",
       "      <td>0</td>\n",
       "      <td>None</td>\n",
       "      <td>EUCLID</td>\n",
       "      <td>AVE</td>\n",
       "      <td>None</td>\n",
       "      <td>WIGHTMAN</td>\n",
       "      <td>None</td>\n",
       "      <td>EUCLID AVE San Diego CA</td>\n",
       "    </tr>\n",
       "    <tr>\n",
       "      <th>2851686</th>\n",
       "      <td>E23020013808</td>\n",
       "      <td>7900</td>\n",
       "      <td>None</td>\n",
       "      <td>FROST</td>\n",
       "      <td>ST</td>\n",
       "      <td>None</td>\n",
       "      <td>None</td>\n",
       "      <td>None</td>\n",
       "      <td>7900 FROST ST San Diego CA</td>\n",
       "    </tr>\n",
       "    <tr>\n",
       "      <th>2851687</th>\n",
       "      <td>E23020013812</td>\n",
       "      <td>2500</td>\n",
       "      <td>None</td>\n",
       "      <td>TORREY PINES</td>\n",
       "      <td>RD</td>\n",
       "      <td>None</td>\n",
       "      <td>None</td>\n",
       "      <td>None</td>\n",
       "      <td>2500 TORREY PINES RD San Diego CA</td>\n",
       "    </tr>\n",
       "  </tbody>\n",
       "</table>\n",
       "<p>2851688 rows × 9 columns</p>\n",
       "</div>"
      ],
      "text/plain": [
       "         incident_num  address_number_primary address_dir_primary  \\\n",
       "0        E18010000001                       0                None   \n",
       "1        E18010000002                       0                None   \n",
       "2        E18010000003                    4300                None   \n",
       "3        E18010000004                    4500                None   \n",
       "4        E18010000005                       0                None   \n",
       "...               ...                     ...                 ...   \n",
       "2851683  E23020013801                       0                  EB   \n",
       "2851684  E23020013802                    1300                None   \n",
       "2851685  E23020013805                       0                None   \n",
       "2851686  E23020013808                    7900                None   \n",
       "2851687  E23020013812                    2500                None   \n",
       "\n",
       "        address_road_primary address_sfx_primary address_dir_intersecting  \\\n",
       "0                     MONROE                 AVE                     None   \n",
       "1                       MAIN                  ST                     None   \n",
       "2                      OCEAN                 BLV                     None   \n",
       "3                   BOYLSTON                  ST                     None   \n",
       "4                       04TH                 AVE                     None   \n",
       "...                      ...                 ...                      ...   \n",
       "2851683                    8                None                     None   \n",
       "2851684             COLUMBIA                  ST                     None   \n",
       "2851685               EUCLID                 AVE                     None   \n",
       "2851686                FROST                  ST                     None   \n",
       "2851687         TORREY PINES                  RD                     None   \n",
       "\n",
       "        address_road_intersecting address_sfx_intersecting  \\\n",
       "0                            PARK                     None   \n",
       "1                            THOR                     None   \n",
       "2                            None                     None   \n",
       "3                            None                     None   \n",
       "4                          ISLAND                     None   \n",
       "...                           ...                      ...   \n",
       "2851683                    TAYLOR                     None   \n",
       "2851684                      None                     None   \n",
       "2851685                  WIGHTMAN                     None   \n",
       "2851686                      None                     None   \n",
       "2851687                      None                     None   \n",
       "\n",
       "                                   address  \n",
       "0                  MONROE AVE San Diego CA  \n",
       "1                     MAIN ST San Diego CA  \n",
       "2              4300 OCEAN BLV San Diego CA  \n",
       "3            4500 BOYLSTON ST San Diego CA  \n",
       "4                    04TH AVE San Diego CA  \n",
       "...                                    ...  \n",
       "2851683                  EB 8 San Diego CA  \n",
       "2851684      1300 COLUMBIA ST San Diego CA  \n",
       "2851685            EUCLID AVE San Diego CA  \n",
       "2851686         7900 FROST ST San Diego CA  \n",
       "2851687  2500 TORREY PINES RD San Diego CA  \n",
       "\n",
       "[2851688 rows x 9 columns]"
      ]
     },
     "execution_count": 178,
     "metadata": {},
     "output_type": "execute_result"
    }
   ],
   "source": [
    "Address_df = get_all_data('Address')\n",
    "zipcode_df = get_all_data('Zipcodes')\n",
    "GeoLocations_df = get_all_data('GeoLocations')\n",
    "Address_df"
   ]
  },
  {
   "cell_type": "code",
   "execution_count": 139,
   "id": "2cff2912",
   "metadata": {},
   "outputs": [
    {
     "data": {
      "text/html": [
       "<div>\n",
       "<style scoped>\n",
       "    .dataframe tbody tr th:only-of-type {\n",
       "        vertical-align: middle;\n",
       "    }\n",
       "\n",
       "    .dataframe tbody tr th {\n",
       "        vertical-align: top;\n",
       "    }\n",
       "\n",
       "    .dataframe thead th {\n",
       "        text-align: right;\n",
       "    }\n",
       "</style>\n",
       "<table border=\"1\" class=\"dataframe\">\n",
       "  <thead>\n",
       "    <tr style=\"text-align: right;\">\n",
       "      <th></th>\n",
       "      <th>incident_num</th>\n",
       "      <th>incident_date_time</th>\n",
       "      <th>call_type</th>\n",
       "      <th>dispo_code</th>\n",
       "      <th>beat</th>\n",
       "      <th>priority</th>\n",
       "      <th>incident_year</th>\n",
       "    </tr>\n",
       "  </thead>\n",
       "  <tbody>\n",
       "    <tr>\n",
       "      <th>0</th>\n",
       "      <td>E18010000001</td>\n",
       "      <td>2018-01-01 00:00:09</td>\n",
       "      <td>FD</td>\n",
       "      <td>K</td>\n",
       "      <td>624</td>\n",
       "      <td>2</td>\n",
       "      <td>2018</td>\n",
       "    </tr>\n",
       "    <tr>\n",
       "      <th>1</th>\n",
       "      <td>E18010000002</td>\n",
       "      <td>2018-01-01 00:00:41</td>\n",
       "      <td>AU1</td>\n",
       "      <td>W</td>\n",
       "      <td>511</td>\n",
       "      <td>1</td>\n",
       "      <td>2018</td>\n",
       "    </tr>\n",
       "    <tr>\n",
       "      <th>2</th>\n",
       "      <td>E18010000003</td>\n",
       "      <td>2018-01-01 00:00:52</td>\n",
       "      <td>1016</td>\n",
       "      <td>A</td>\n",
       "      <td>122</td>\n",
       "      <td>2</td>\n",
       "      <td>2018</td>\n",
       "    </tr>\n",
       "    <tr>\n",
       "      <th>3</th>\n",
       "      <td>E18010000004</td>\n",
       "      <td>2018-01-01 00:00:55</td>\n",
       "      <td>AU1</td>\n",
       "      <td>W</td>\n",
       "      <td>445</td>\n",
       "      <td>1</td>\n",
       "      <td>2018</td>\n",
       "    </tr>\n",
       "    <tr>\n",
       "      <th>4</th>\n",
       "      <td>E18010000005</td>\n",
       "      <td>2018-01-01 00:00:56</td>\n",
       "      <td>1151</td>\n",
       "      <td>O</td>\n",
       "      <td>523</td>\n",
       "      <td>3</td>\n",
       "      <td>2018</td>\n",
       "    </tr>\n",
       "    <tr>\n",
       "      <th>...</th>\n",
       "      <td>...</td>\n",
       "      <td>...</td>\n",
       "      <td>...</td>\n",
       "      <td>...</td>\n",
       "      <td>...</td>\n",
       "      <td>...</td>\n",
       "      <td>...</td>\n",
       "    </tr>\n",
       "    <tr>\n",
       "      <th>2851683</th>\n",
       "      <td>E23020013801</td>\n",
       "      <td>2023-02-09 23:43:55</td>\n",
       "      <td>T</td>\n",
       "      <td>K</td>\n",
       "      <td>623</td>\n",
       "      <td>2</td>\n",
       "      <td>2023</td>\n",
       "    </tr>\n",
       "    <tr>\n",
       "      <th>2851684</th>\n",
       "      <td>E23020013802</td>\n",
       "      <td>2023-02-09 23:44:48</td>\n",
       "      <td>FU</td>\n",
       "      <td>K</td>\n",
       "      <td>524</td>\n",
       "      <td>2</td>\n",
       "      <td>2023</td>\n",
       "    </tr>\n",
       "    <tr>\n",
       "      <th>2851685</th>\n",
       "      <td>E23020013805</td>\n",
       "      <td>2023-02-09 23:49:20</td>\n",
       "      <td>T</td>\n",
       "      <td>O</td>\n",
       "      <td>828</td>\n",
       "      <td>2</td>\n",
       "      <td>2023</td>\n",
       "    </tr>\n",
       "    <tr>\n",
       "      <th>2851686</th>\n",
       "      <td>E23020013808</td>\n",
       "      <td>2023-02-09 23:53:22</td>\n",
       "      <td>911</td>\n",
       "      <td>CAN</td>\n",
       "      <td>314</td>\n",
       "      <td>1</td>\n",
       "      <td>2023</td>\n",
       "    </tr>\n",
       "    <tr>\n",
       "      <th>2851687</th>\n",
       "      <td>E23020013812</td>\n",
       "      <td>2023-02-09 23:56:48</td>\n",
       "      <td>911</td>\n",
       "      <td>CAN</td>\n",
       "      <td>124</td>\n",
       "      <td>1</td>\n",
       "      <td>2023</td>\n",
       "    </tr>\n",
       "  </tbody>\n",
       "</table>\n",
       "<p>2838197 rows × 7 columns</p>\n",
       "</div>"
      ],
      "text/plain": [
       "         incident_num  incident_date_time call_type dispo_code  beat  \\\n",
       "0        E18010000001 2018-01-01 00:00:09        FD          K   624   \n",
       "1        E18010000002 2018-01-01 00:00:41       AU1          W   511   \n",
       "2        E18010000003 2018-01-01 00:00:52      1016          A   122   \n",
       "3        E18010000004 2018-01-01 00:00:55       AU1          W   445   \n",
       "4        E18010000005 2018-01-01 00:00:56      1151          O   523   \n",
       "...               ...                 ...       ...        ...   ...   \n",
       "2851683  E23020013801 2023-02-09 23:43:55         T          K   623   \n",
       "2851684  E23020013802 2023-02-09 23:44:48        FU          K   524   \n",
       "2851685  E23020013805 2023-02-09 23:49:20         T          O   828   \n",
       "2851686  E23020013808 2023-02-09 23:53:22       911        CAN   314   \n",
       "2851687  E23020013812 2023-02-09 23:56:48       911        CAN   124   \n",
       "\n",
       "         priority  incident_year  \n",
       "0               2           2018  \n",
       "1               1           2018  \n",
       "2               2           2018  \n",
       "3               1           2018  \n",
       "4               3           2018  \n",
       "...           ...            ...  \n",
       "2851683         2           2023  \n",
       "2851684         2           2023  \n",
       "2851685         2           2023  \n",
       "2851686         1           2023  \n",
       "2851687         1           2023  \n",
       "\n",
       "[2838197 rows x 7 columns]"
      ]
     },
     "execution_count": 139,
     "metadata": {},
     "output_type": "execute_result"
    }
   ],
   "source": [
    "Service_calls_df = get_all_data('Service_calls')\n",
    "Service_calls_df"
   ]
  },
  {
   "cell_type": "markdown",
   "id": "67603764",
   "metadata": {},
   "source": [
    "# Conect to AWS"
   ]
  },
  {
   "cell_type": "markdown",
   "id": "5426c041",
   "metadata": {},
   "source": [
    "## Migrating Data from Local to AWS"
   ]
  },
  {
   "cell_type": "code",
   "execution_count": 180,
   "id": "c4a19063",
   "metadata": {},
   "outputs": [],
   "source": [
    "database = \"sdpd\"\n",
    "user = 'admin'\n",
    "password = 'XXXX'\n",
    "host = 'sdpd.chck20ykciaw.us-west-2.rds.amazonaws.com'\n",
    "\n",
    "#Initial Connection\n",
    "cnx = mysql.connector.connect(user=user,\n",
    "                              password=password,\n",
    "                              host=host,\n",
    "                              database=database\n",
    "                              )\n",
    "cursor = cnx.cursor()\n",
    "\n",
    "#Connect to DB\n",
    "engine = create_engine(f\"mysql://{user}:{password}@{host}/{database}\")\n",
    "connection = engine.connect()"
   ]
  },
  {
   "cell_type": "code",
   "execution_count": 77,
   "id": "2b634d46",
   "metadata": {},
   "outputs": [],
   "source": [
    "# df to dict\n",
    "call_type_dict = Call_types_df.to_dict('records')\n",
    "disposition_dict = Dispositions_df.to_dict('records')\n",
    "beat_dict = Beats_df.to_dict('records')\n"
   ]
  },
  {
   "cell_type": "code",
   "execution_count": 78,
   "id": "97ae0a1d",
   "metadata": {},
   "outputs": [],
   "source": [
    "# SQL Variable Tables\n",
    "SQL_Tables = pd.DataFrame({\n",
    "    'Table':['call_types','dispositions','beats'],\n",
    "    'Key':['call_type','dispo_code','beat'],\n",
    "    'Col2':['description','description','neighborhood'],\n",
    "    'dict':[call_type_dict,disposition_dict,beat_dict]\n",
    "})\n",
    "SQL_Tables_dict = SQL_Tables.to_dict('records')"
   ]
  },
  {
   "cell_type": "code",
   "execution_count": 79,
   "id": "b9b773cf",
   "metadata": {},
   "outputs": [],
   "source": [
    "#Load Data\n",
    "def Load_Data(row,cursor,table,Col1,Col2):\n",
    "    # Create a new record\n",
    "    sql = f\"\"\"INSERT INTO {table} ({Col1},\n",
    "                                    {Col2}\n",
    "                                    ) VALUES (%s, %s)\"\"\"\n",
    "\n",
    "    # Execute the query\n",
    "    cursor.execute(sql, (row[Col1],row[Col2]))\n",
    "    cnx.commit()  "
   ]
  },
  {
   "cell_type": "code",
   "execution_count": 80,
   "id": "354be163",
   "metadata": {
    "scrolled": true
   },
   "outputs": [
    {
     "name": "stderr",
     "output_type": "stream",
     "text": [
      "100%|█████████████████████████████████████████████| 3/3 [01:45<00:00, 35.13s/it]\n"
     ]
    }
   ],
   "source": [
    "for upper_row in tqdm(SQL_Tables_dict):\n",
    "    for row in upper_row['dict']:\n",
    "        Data_Found = Find_Data(row,cursor,\n",
    "                               upper_row['Table'],\n",
    "                               upper_row['Key'])\n",
    "        if Data_Found is None:\n",
    "            #If no data found load \n",
    "            Load_Data(row,\n",
    "                      cursor,\n",
    "                      upper_row['Table'],\n",
    "                      upper_row['Key'],\n",
    "                      upper_row['Col2'])\n",
    "        else:\n",
    "            pass"
   ]
  },
  {
   "cell_type": "markdown",
   "id": "8f52bcca",
   "metadata": {},
   "source": [
    "### Service Calls"
   ]
  },
  {
   "cell_type": "code",
   "execution_count": 140,
   "id": "9fc5f0ec",
   "metadata": {},
   "outputs": [
    {
     "data": {
      "text/html": [
       "<div>\n",
       "<style scoped>\n",
       "    .dataframe tbody tr th:only-of-type {\n",
       "        vertical-align: middle;\n",
       "    }\n",
       "\n",
       "    .dataframe tbody tr th {\n",
       "        vertical-align: top;\n",
       "    }\n",
       "\n",
       "    .dataframe thead th {\n",
       "        text-align: right;\n",
       "    }\n",
       "</style>\n",
       "<table border=\"1\" class=\"dataframe\">\n",
       "  <thead>\n",
       "    <tr style=\"text-align: right;\">\n",
       "      <th></th>\n",
       "      <th>incident_num</th>\n",
       "      <th>incident_date_time</th>\n",
       "      <th>call_type</th>\n",
       "      <th>dispo_code</th>\n",
       "      <th>beat</th>\n",
       "      <th>priority</th>\n",
       "      <th>incident_year</th>\n",
       "    </tr>\n",
       "  </thead>\n",
       "  <tbody>\n",
       "    <tr>\n",
       "      <th>0</th>\n",
       "      <td>E18010000001</td>\n",
       "      <td>2018-01-01 00:00:09</td>\n",
       "      <td>FD</td>\n",
       "      <td>K</td>\n",
       "      <td>624</td>\n",
       "      <td>2</td>\n",
       "      <td>2018</td>\n",
       "    </tr>\n",
       "    <tr>\n",
       "      <th>1</th>\n",
       "      <td>E18010000002</td>\n",
       "      <td>2018-01-01 00:00:41</td>\n",
       "      <td>AU1</td>\n",
       "      <td>W</td>\n",
       "      <td>511</td>\n",
       "      <td>1</td>\n",
       "      <td>2018</td>\n",
       "    </tr>\n",
       "    <tr>\n",
       "      <th>2</th>\n",
       "      <td>E18010000003</td>\n",
       "      <td>2018-01-01 00:00:52</td>\n",
       "      <td>1016</td>\n",
       "      <td>A</td>\n",
       "      <td>122</td>\n",
       "      <td>2</td>\n",
       "      <td>2018</td>\n",
       "    </tr>\n",
       "    <tr>\n",
       "      <th>3</th>\n",
       "      <td>E18010000004</td>\n",
       "      <td>2018-01-01 00:00:55</td>\n",
       "      <td>AU1</td>\n",
       "      <td>W</td>\n",
       "      <td>445</td>\n",
       "      <td>1</td>\n",
       "      <td>2018</td>\n",
       "    </tr>\n",
       "    <tr>\n",
       "      <th>4</th>\n",
       "      <td>E18010000005</td>\n",
       "      <td>2018-01-01 00:00:56</td>\n",
       "      <td>1151</td>\n",
       "      <td>O</td>\n",
       "      <td>523</td>\n",
       "      <td>3</td>\n",
       "      <td>2018</td>\n",
       "    </tr>\n",
       "    <tr>\n",
       "      <th>...</th>\n",
       "      <td>...</td>\n",
       "      <td>...</td>\n",
       "      <td>...</td>\n",
       "      <td>...</td>\n",
       "      <td>...</td>\n",
       "      <td>...</td>\n",
       "      <td>...</td>\n",
       "    </tr>\n",
       "    <tr>\n",
       "      <th>2851683</th>\n",
       "      <td>E23020013801</td>\n",
       "      <td>2023-02-09 23:43:55</td>\n",
       "      <td>T</td>\n",
       "      <td>K</td>\n",
       "      <td>623</td>\n",
       "      <td>2</td>\n",
       "      <td>2023</td>\n",
       "    </tr>\n",
       "    <tr>\n",
       "      <th>2851684</th>\n",
       "      <td>E23020013802</td>\n",
       "      <td>2023-02-09 23:44:48</td>\n",
       "      <td>FU</td>\n",
       "      <td>K</td>\n",
       "      <td>524</td>\n",
       "      <td>2</td>\n",
       "      <td>2023</td>\n",
       "    </tr>\n",
       "    <tr>\n",
       "      <th>2851685</th>\n",
       "      <td>E23020013805</td>\n",
       "      <td>2023-02-09 23:49:20</td>\n",
       "      <td>T</td>\n",
       "      <td>O</td>\n",
       "      <td>828</td>\n",
       "      <td>2</td>\n",
       "      <td>2023</td>\n",
       "    </tr>\n",
       "    <tr>\n",
       "      <th>2851686</th>\n",
       "      <td>E23020013808</td>\n",
       "      <td>2023-02-09 23:53:22</td>\n",
       "      <td>911</td>\n",
       "      <td>CAN</td>\n",
       "      <td>314</td>\n",
       "      <td>1</td>\n",
       "      <td>2023</td>\n",
       "    </tr>\n",
       "    <tr>\n",
       "      <th>2851687</th>\n",
       "      <td>E23020013812</td>\n",
       "      <td>2023-02-09 23:56:48</td>\n",
       "      <td>911</td>\n",
       "      <td>CAN</td>\n",
       "      <td>124</td>\n",
       "      <td>1</td>\n",
       "      <td>2023</td>\n",
       "    </tr>\n",
       "  </tbody>\n",
       "</table>\n",
       "<p>2838197 rows × 7 columns</p>\n",
       "</div>"
      ],
      "text/plain": [
       "         incident_num  incident_date_time call_type dispo_code  beat  \\\n",
       "0        E18010000001 2018-01-01 00:00:09        FD          K   624   \n",
       "1        E18010000002 2018-01-01 00:00:41       AU1          W   511   \n",
       "2        E18010000003 2018-01-01 00:00:52      1016          A   122   \n",
       "3        E18010000004 2018-01-01 00:00:55       AU1          W   445   \n",
       "4        E18010000005 2018-01-01 00:00:56      1151          O   523   \n",
       "...               ...                 ...       ...        ...   ...   \n",
       "2851683  E23020013801 2023-02-09 23:43:55         T          K   623   \n",
       "2851684  E23020013802 2023-02-09 23:44:48        FU          K   524   \n",
       "2851685  E23020013805 2023-02-09 23:49:20         T          O   828   \n",
       "2851686  E23020013808 2023-02-09 23:53:22       911        CAN   314   \n",
       "2851687  E23020013812 2023-02-09 23:56:48       911        CAN   124   \n",
       "\n",
       "         priority  incident_year  \n",
       "0               2           2018  \n",
       "1               1           2018  \n",
       "2               2           2018  \n",
       "3               1           2018  \n",
       "4               3           2018  \n",
       "...           ...            ...  \n",
       "2851683         2           2023  \n",
       "2851684         2           2023  \n",
       "2851685         2           2023  \n",
       "2851686         1           2023  \n",
       "2851687         1           2023  \n",
       "\n",
       "[2838197 rows x 7 columns]"
      ]
     },
     "execution_count": 140,
     "metadata": {},
     "output_type": "execute_result"
    }
   ],
   "source": [
    "Service_calls_df"
   ]
  },
  {
   "cell_type": "code",
   "execution_count": 166,
   "id": "4331fe38",
   "metadata": {},
   "outputs": [],
   "source": [
    "Service_calls_df.to_sql('service_calls',\n",
    "                        con=engine,\n",
    "                        if_exists='append',\n",
    "                        index=False)"
   ]
  },
  {
   "cell_type": "markdown",
   "id": "71394bb3",
   "metadata": {},
   "source": [
    "### Addreess"
   ]
  },
  {
   "cell_type": "code",
   "execution_count": 182,
   "id": "26d8ac64",
   "metadata": {},
   "outputs": [
    {
     "data": {
      "text/plain": [
       "2851688"
      ]
     },
     "execution_count": 182,
     "metadata": {},
     "output_type": "execute_result"
    }
   ],
   "source": [
    "Address_df.to_sql('address',\n",
    "                        con=engine,\n",
    "                        if_exists='append',\n",
    "                        index=False)"
   ]
  },
  {
   "cell_type": "code",
   "execution_count": 171,
   "id": "7fcd2365",
   "metadata": {},
   "outputs": [
    {
     "data": {
      "text/html": [
       "<div>\n",
       "<style scoped>\n",
       "    .dataframe tbody tr th:only-of-type {\n",
       "        vertical-align: middle;\n",
       "    }\n",
       "\n",
       "    .dataframe tbody tr th {\n",
       "        vertical-align: top;\n",
       "    }\n",
       "\n",
       "    .dataframe thead th {\n",
       "        text-align: right;\n",
       "    }\n",
       "</style>\n",
       "<table border=\"1\" class=\"dataframe\">\n",
       "  <thead>\n",
       "    <tr style=\"text-align: right;\">\n",
       "      <th></th>\n",
       "      <th>incident_num</th>\n",
       "      <th>Zipcode</th>\n",
       "    </tr>\n",
       "  </thead>\n",
       "  <tbody>\n",
       "    <tr>\n",
       "      <th>0</th>\n",
       "      <td>E18010000001</td>\n",
       "      <td>92116</td>\n",
       "    </tr>\n",
       "    <tr>\n",
       "      <th>1</th>\n",
       "      <td>E18010000002</td>\n",
       "      <td>92136</td>\n",
       "    </tr>\n",
       "    <tr>\n",
       "      <th>2</th>\n",
       "      <td>E18010000003</td>\n",
       "      <td>92109</td>\n",
       "    </tr>\n",
       "    <tr>\n",
       "      <th>3</th>\n",
       "      <td>E18010000004</td>\n",
       "      <td>92102</td>\n",
       "    </tr>\n",
       "    <tr>\n",
       "      <th>4</th>\n",
       "      <td>E18010000005</td>\n",
       "      <td>92101</td>\n",
       "    </tr>\n",
       "    <tr>\n",
       "      <th>...</th>\n",
       "      <td>...</td>\n",
       "      <td>...</td>\n",
       "    </tr>\n",
       "    <tr>\n",
       "      <th>55418</th>\n",
       "      <td>E23020013801</td>\n",
       "      <td>92101</td>\n",
       "    </tr>\n",
       "    <tr>\n",
       "      <th>55419</th>\n",
       "      <td>E23020013802</td>\n",
       "      <td>92101</td>\n",
       "    </tr>\n",
       "    <tr>\n",
       "      <th>55420</th>\n",
       "      <td>E23020013805</td>\n",
       "      <td>92105</td>\n",
       "    </tr>\n",
       "    <tr>\n",
       "      <th>55421</th>\n",
       "      <td>E23020013808</td>\n",
       "      <td>92123</td>\n",
       "    </tr>\n",
       "    <tr>\n",
       "      <th>55422</th>\n",
       "      <td>E23020013812</td>\n",
       "      <td>92037</td>\n",
       "    </tr>\n",
       "  </tbody>\n",
       "</table>\n",
       "<p>55423 rows × 2 columns</p>\n",
       "</div>"
      ],
      "text/plain": [
       "       incident_num  Zipcode\n",
       "0      E18010000001    92116\n",
       "1      E18010000002    92136\n",
       "2      E18010000003    92109\n",
       "3      E18010000004    92102\n",
       "4      E18010000005    92101\n",
       "...             ...      ...\n",
       "55418  E23020013801    92101\n",
       "55419  E23020013802    92101\n",
       "55420  E23020013805    92105\n",
       "55421  E23020013808    92123\n",
       "55422  E23020013812    92037\n",
       "\n",
       "[55423 rows x 2 columns]"
      ]
     },
     "execution_count": 171,
     "metadata": {},
     "output_type": "execute_result"
    }
   ],
   "source": [
    "zipcode_df"
   ]
  },
  {
   "cell_type": "code",
   "execution_count": 183,
   "id": "1dbf1698",
   "metadata": {},
   "outputs": [
    {
     "data": {
      "text/plain": [
       "55423"
      ]
     },
     "execution_count": 183,
     "metadata": {},
     "output_type": "execute_result"
    }
   ],
   "source": [
    "zipcode_df.to_sql('zipcodes',\n",
    "                        con=engine,\n",
    "                        if_exists='append',\n",
    "                        schema=database,\n",
    "                        index=False)"
   ]
  },
  {
   "cell_type": "code",
   "execution_count": 184,
   "id": "198347d4",
   "metadata": {},
   "outputs": [
    {
     "data": {
      "text/plain": [
       "55423"
      ]
     },
     "execution_count": 184,
     "metadata": {},
     "output_type": "execute_result"
    }
   ],
   "source": [
    "GeoLocations_df.to_sql('geolocations',\n",
    "                        con=engine,\n",
    "                        if_exists='append',\n",
    "                        index=False)"
   ]
  }
 ],
 "metadata": {
  "kernelspec": {
   "display_name": "Python 3 (ipykernel)",
   "language": "python",
   "name": "python3"
  },
  "language_info": {
   "codemirror_mode": {
    "name": "ipython",
    "version": 3
   },
   "file_extension": ".py",
   "mimetype": "text/x-python",
   "name": "python",
   "nbconvert_exporter": "python",
   "pygments_lexer": "ipython3",
   "version": "3.9.12"
  }
 },
 "nbformat": 4,
 "nbformat_minor": 5
}
