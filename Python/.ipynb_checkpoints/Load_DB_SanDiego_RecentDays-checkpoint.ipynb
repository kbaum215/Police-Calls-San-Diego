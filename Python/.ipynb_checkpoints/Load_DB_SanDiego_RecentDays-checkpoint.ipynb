{
 "cells": [
  {
   "cell_type": "code",
   "execution_count": 1,
   "id": "00add51c",
   "metadata": {},
   "outputs": [],
   "source": [
    "#Libraries\n",
    "import mysql.connector\n",
    "import pandas as pd\n",
    "from datetime import datetime, timedelta, date, time\n",
    "from tqdm import tqdm\n",
    "from sqlalchemy import create_engine\n",
    "from sqlalchemy import text\n",
    "import pymysql\n",
    "pymysql.install_as_MySQLdb()\n",
    "import requests\n",
    "\n",
    "\n",
    "#For ZipCodes\n",
    "from geopy.extra.rate_limiter import RateLimiter\n",
    "from geopy.geocoders import Nominatim"
   ]
  },
  {
   "cell_type": "markdown",
   "id": "8771b324",
   "metadata": {},
   "source": [
    "## DB Coonnect"
   ]
  },
  {
   "cell_type": "code",
   "execution_count": 2,
   "id": "f2e4ad21",
   "metadata": {},
   "outputs": [],
   "source": [
    "database = \"sd_pd_calls\"\n",
    "user = 'root'\n",
    "password = 'Password1'\n",
    "host = 'localhost'\n",
    "GOOGLE_API_KEY = 'XXXXXX'\n",
    "user_agent_name = 'Sal-App'"
   ]
  },
  {
   "cell_type": "code",
   "execution_count": 3,
   "id": "e7a13193",
   "metadata": {},
   "outputs": [],
   "source": [
    "#Initial Connection\n",
    "cnx = mysql.connector.connect(user=user,\n",
    "                              password=password,\n",
    "                              host=host,\n",
    "                              database=database\n",
    "                              )\n",
    "cursor = cnx.cursor()"
   ]
  },
  {
   "cell_type": "markdown",
   "id": "bbfdb790",
   "metadata": {},
   "source": [
    "##  Find if Row exists"
   ]
  },
  {
   "cell_type": "code",
   "execution_count": 4,
   "id": "4a14aff7",
   "metadata": {},
   "outputs": [],
   "source": [
    "def Find_Data(row,cursor,table, key):\n",
    "    try:\n",
    "        #print(f\"SELECT * from {table} where {key} = '{row[key]}'\")\n",
    "        cursor.execute(f\"SELECT * from {table} where {key} = '{row[key]}'\")\n",
    "        # Fetch a record\n",
    "        result = cursor.fetchone()\n",
    "    except:\n",
    "        result = 0\n",
    "    \n",
    "    return result"
   ]
  },
  {
   "cell_type": "markdown",
   "id": "0db2fdfe",
   "metadata": {},
   "source": [
    "## Load Variables"
   ]
  },
  {
   "cell_type": "code",
   "execution_count": 5,
   "id": "7a60f821",
   "metadata": {},
   "outputs": [],
   "source": [
    "#Calls\n",
    "url = f\"http://seshat.datasd.org/pd/pd_cfs_calltypes_datasd.csv\"\n",
    "call_type = pd.read_csv(url).dropna(axis=1)\n"
   ]
  },
  {
   "cell_type": "code",
   "execution_count": 6,
   "id": "ddb52f82",
   "metadata": {},
   "outputs": [],
   "source": [
    "#Dispos\n",
    "url = f\"http://seshat.datasd.org/pd/pd_dispo_codes_datasd.csv\"\n",
    "disposition = pd.read_csv(url).dropna(axis=1)\n",
    "disposition.loc[len(disposition.index)] = ['DEF', 'DEF'] \n",
    "disposition.loc[len(disposition.index)] = ['SS-', 'SS-'] "
   ]
  },
  {
   "cell_type": "code",
   "execution_count": 7,
   "id": "1104f35c",
   "metadata": {},
   "outputs": [],
   "source": [
    "#Beats\n",
    "beat = pd.read_csv('beat-neighborhood.csv').dropna(axis=1)\n",
    "beat_split = beat['beat,neighborhood'].str.split(pat=\",\",\n",
    "                                                 expand=True)\n",
    "beat_split = beat_split.rename(columns={0: \"beat\",\n",
    "                                        1: \"neighborhood\"})\n",
    "beat_split.loc[len(beat_split.index)] = [-1, 'No Beat']\n",
    "beat_split.loc[len(beat_split.index)] = [700, '700'] \n",
    "beat_split.loc[len(beat_split.index)] = [63, '63']\n",
    "beat_split.loc[len(beat_split.index)] = [64, '64'] \n",
    "beat_split.loc[len(beat_split.index)] = [0, '0'] \n",
    "beat_split.loc[len(beat_split.index)] = [300, '300']\n",
    "beat_split.loc[len(beat_split.index)] = [9, '9'] \n"
   ]
  },
  {
   "cell_type": "code",
   "execution_count": 8,
   "id": "0909945f",
   "metadata": {},
   "outputs": [],
   "source": [
    "# Create dataframe\n",
    "days = pd.DataFrame({\n",
    "    'day_of_week':list(range(1,8)),\n",
    "    'day':['Sunday','Monday','Tuesday','Wednesday','Thursday','Friday','Saturday'],\n",
    "})\n"
   ]
  },
  {
   "cell_type": "code",
   "execution_count": 9,
   "id": "1316f407",
   "metadata": {},
   "outputs": [],
   "source": [
    "# df to dict\n",
    "call_type_dict = call_type.to_dict('records')\n",
    "disposition_dict = disposition.to_dict('records')\n",
    "beat_dict = beat_split.to_dict('records')\n",
    "days_dict = days.to_dict('records')"
   ]
  },
  {
   "cell_type": "code",
   "execution_count": 10,
   "id": "c06c397d",
   "metadata": {},
   "outputs": [],
   "source": [
    "# SQL Variable Tables\n",
    "SQL_Tables = pd.DataFrame({\n",
    "    'Table':['Call_types','Dispositions','Beats'],\n",
    "    'Key':['call_type','dispo_code','beat'],\n",
    "    'Col2':['description','description','neighborhood'],\n",
    "    'dict':[call_type_dict,disposition_dict,beat_dict]\n",
    "})\n",
    "SQL_Tables_dict = SQL_Tables.to_dict('records')"
   ]
  },
  {
   "cell_type": "code",
   "execution_count": 11,
   "id": "62922f29",
   "metadata": {},
   "outputs": [],
   "source": [
    "#Load Data\n",
    "def Load_Data(row,cursor,table,Col1,Col2):\n",
    "    # Create a new record\n",
    "    sql = f\"\"\"INSERT INTO {table} ({Col1},\n",
    "                                    {Col2}\n",
    "                                    ) VALUES (%s, %s)\"\"\"\n",
    "\n",
    "    # Execute the query\n",
    "    cursor.execute(sql, (row[Col1],row[Col2]))\n",
    "    cnx.commit()  "
   ]
  },
  {
   "cell_type": "code",
   "execution_count": 12,
   "id": "e3b16e12",
   "metadata": {},
   "outputs": [
    {
     "name": "stderr",
     "output_type": "stream",
     "text": [
      "100%|██████████| 3/3 [00:00<00:00,  8.35it/s]\n"
     ]
    }
   ],
   "source": [
    "for upper_row in tqdm(SQL_Tables_dict):\n",
    "    for row in upper_row['dict']:\n",
    "        Data_Found = Find_Data(row,cursor,\n",
    "                               upper_row['Table'],\n",
    "                               upper_row['Key'])\n",
    "        if Data_Found is None:\n",
    "            #If no data found load \n",
    "            Load_Data(row,\n",
    "                      cursor,\n",
    "                      upper_row['Table'],\n",
    "                      upper_row['Key'],\n",
    "                      upper_row['Col2'])\n",
    "        else:\n",
    "            pass"
   ]
  },
  {
   "cell_type": "markdown",
   "id": "9ffc936e",
   "metadata": {},
   "source": [
    "# Load Historical Calls"
   ]
  },
  {
   "attachments": {},
   "cell_type": "markdown",
   "id": "f7aa3c56",
   "metadata": {},
   "source": [
    "Loading Last 4 days"
   ]
  },
  {
   "cell_type": "code",
   "execution_count": 13,
   "id": "d483d952",
   "metadata": {},
   "outputs": [],
   "source": [
    "#Need to create or import current year by default\n",
    "year = datetime.now().year;\n",
    "\n",
    "url = f\"https://seshat.datasd.org/pd/pd_calls_for_service_{year}_datasd.csv\"\n",
    "df = pd.read_csv(url)\n",
    "\n",
    "#changing format from object to datetime\n",
    "df['date_time'] = pd.to_datetime(df['date_time'], format='%Y-%m-%d')\n",
    "\n",
    "#Using current date minus 4 days to get recent data\n",
    "current_date = date.today()\n",
    "df_recent = df.loc[(df['date_time'].dt.date == current_date - timedelta(4))]"
   ]
  },
  {
   "cell_type": "code",
   "execution_count": 14,
   "id": "c55730f7",
   "metadata": {},
   "outputs": [
    {
     "name": "stderr",
     "output_type": "stream",
     "text": [
      "C:\\Users\\ebbi_\\AppData\\Local\\Temp\\ipykernel_45704\\2498810194.py:2: FutureWarning: The default value of numeric_only in DataFrame.max is deprecated. In a future version, it will default to False. In addition, specifying 'numeric_only=None' is deprecated. Select only valid columns or specify the value of numeric_only to silence this warning.\n",
      "  df_recent.max()\n"
     ]
    },
    {
     "data": {
      "text/plain": [
       "incident_num                       E23020006265\n",
       "date_time                   2023-02-04 23:59:15\n",
       "day_of_week                                   7\n",
       "address_number_primary                    34800\n",
       "address_road_primary                        ZOO\n",
       "address_dir_intersecting                    NaN\n",
       "address_sfx_intersecting                    NaN\n",
       "call_type                               WARRANT\n",
       "disposition                                   X\n",
       "beat                                        937\n",
       "priority                                      9\n",
       "dtype: object"
      ]
     },
     "execution_count": 14,
     "metadata": {},
     "output_type": "execute_result"
    }
   ],
   "source": [
    "#Verify minimum and maximum dates\n",
    "df_recent.max()\n",
    "#df_recent.min()"
   ]
  },
  {
   "cell_type": "markdown",
   "id": "b549ec0c",
   "metadata": {},
   "source": [
    "### Load Calls"
   ]
  },
  {
   "cell_type": "code",
   "execution_count": 15,
   "id": "3d3b293d",
   "metadata": {},
   "outputs": [],
   "source": [
    "#Calls\n",
    "def Load_Calls(row,cursor,table,year):\n",
    "    # Create a new record\n",
    "    sql = f\"\"\"INSERT INTO {table} ( incident_num,\n",
    "                                    incident_date_time,\n",
    "                                    call_type,\n",
    "                                    dispo_code,\n",
    "                                    beat,\n",
    "                                    priority,\n",
    "                                    incident_year\n",
    "                                    ) VALUES (%s,%s,%s,%s,%s,%s,%s)\"\"\"\n",
    "\n",
    "    # Execute the query\n",
    "    cursor.execute(sql, (row['incident_num'],\n",
    "                         row['date_time'],\n",
    "                         row['call_type'],\n",
    "                         row['disposition'],\n",
    "                         row['beat'],\n",
    "                         row['priority'],\n",
    "                         year,\n",
    "                        )\n",
    "                  )\n",
    "    cnx.commit()  "
   ]
  },
  {
   "cell_type": "code",
   "execution_count": 16,
   "id": "2fa24f33",
   "metadata": {},
   "outputs": [
    {
     "name": "stderr",
     "output_type": "stream",
     "text": [
      "100%|██████████| 1282/1282 [00:00<00:00, 1428.21it/s]\n"
     ]
    }
   ],
   "source": [
    "recent_data = df_recent\n",
    "recent_data_dict = recent_data.to_dict('records')\n",
    "\n",
    "for row in tqdm(recent_data_dict):\n",
    "    #Load Service Calls\n",
    "    Table = 'Service_calls'\n",
    "    Key = 'incident_num'\n",
    "    #Verify if Data is in table\n",
    "    Data_Found = Find_Data(row,cursor,Table,Key)\n",
    "    if Data_Found is None:\n",
    "        #If no data found load\n",
    "        try:\n",
    "            Load_Calls(row,cursor,Table,year)\n",
    "        except:\n",
    "            print(row)\n",
    "            \n",
    "    else:\n",
    "        pass"
   ]
  },
  {
   "cell_type": "markdown",
   "id": "bede5dfa",
   "metadata": {},
   "source": [
    "### Load Address"
   ]
  },
  {
   "cell_type": "code",
   "execution_count": 17,
   "id": "e29c55ee",
   "metadata": {},
   "outputs": [],
   "source": [
    "#Address\n",
    "def Load_Calls_Address(row,cursor,table):\n",
    "    address_list = [row['address_number_primary'],\n",
    "               row['address_dir_primary'],\n",
    "               row['address_road_primary'],\n",
    "               row['address_sfx_primary'],\n",
    "                    'San Diego CA'\n",
    "                   ]\n",
    "    \n",
    "    def concatenate_elements(elements):\n",
    "        result = ''\n",
    "        for element in elements:\n",
    "            if element is not None and not pd.isnull(element) and element != 0:\n",
    "                result += str(element) + ' '\n",
    "        return result.strip()\n",
    "    \n",
    "    \n",
    "    address = concatenate_elements(address_list)\n",
    "    \n",
    "    # Create a new record\n",
    "    sql = f\"\"\"INSERT INTO {table} ( incident_num,\n",
    "                                    address_number_primary,\n",
    "                                    address_dir_primary,\n",
    "                                    address_road_primary,\n",
    "                                    address_sfx_primary,\n",
    "                                    address_dir_intersecting,\n",
    "                                    address_road_intersecting,\n",
    "                                    address_sfx_intersecting,\n",
    "                                    address\n",
    "                                    ) VALUES (%s,%s,%s,%s,%s,%s,%s,%s,%s)\"\"\"\n",
    "\n",
    "    # Execute the query\n",
    "    cursor.execute(sql, (row['incident_num'],\n",
    "                         row['address_number_primary'],\n",
    "                         row['address_dir_primary'],\n",
    "                         row['address_road_primary'],\n",
    "                         row['address_sfx_primary'],\n",
    "                         row['address_dir_intersecting'],\n",
    "                         row['address_road_intersecting'],\n",
    "                         row['address_sfx_intersecting'],\n",
    "                         address\n",
    "                        )\n",
    "                  )\n",
    "    cnx.commit()"
   ]
  },
  {
   "cell_type": "code",
   "execution_count": 18,
   "id": "9690e0b5",
   "metadata": {},
   "outputs": [
    {
     "name": "stderr",
     "output_type": "stream",
     "text": [
      "100%|██████████| 1282/1282 [00:00<00:00, 1592.68it/s]\n"
     ]
    }
   ],
   "source": [
    "#Load Address\n",
    "\n",
    "recent_data = df_recent\n",
    "recent_data_dict = recent_data.to_dict('records')\n",
    "for row in tqdm(recent_data_dict):\n",
    "    #Load Service Calls Address        \n",
    "    Table = 'Address'\n",
    "    Key = 'incident_num'\n",
    "    #Verify if Data is in table\n",
    "    Data_Found = Find_Data(row,cursor,Table,Key)\n",
    "    if Data_Found is None:\n",
    "        #If no data found load\n",
    "        try:\n",
    "            pass\n",
    "            #Load_Calls_Address(row,cursor,Table)\n",
    "        except:\n",
    "            pass\n",
    "            #print(row)\n",
    "            \n",
    "    else:\n",
    "        pass"
   ]
  },
  {
   "cell_type": "markdown",
   "id": "d7bc5d06",
   "metadata": {},
   "source": [
    "## Need to improve the address loading, droping to many"
   ]
  },
  {
   "cell_type": "markdown",
   "id": "26bd4502",
   "metadata": {},
   "source": [
    "### Lat and Long"
   ]
  },
  {
   "cell_type": "code",
   "execution_count": 19,
   "id": "865723d8",
   "metadata": {},
   "outputs": [],
   "source": [
    "#Connect to DB\n",
    "engine = create_engine(f\"mysql://{user}:{password}@{host}/{database}\")\n",
    "connection = engine.connect()"
   ]
  },
  {
   "cell_type": "code",
   "execution_count": 20,
   "id": "ca5b49ae",
   "metadata": {},
   "outputs": [
    {
     "data": {
      "text/html": [
       "<div>\n",
       "<style scoped>\n",
       "    .dataframe tbody tr th:only-of-type {\n",
       "        vertical-align: middle;\n",
       "    }\n",
       "\n",
       "    .dataframe tbody tr th {\n",
       "        vertical-align: top;\n",
       "    }\n",
       "\n",
       "    .dataframe thead th {\n",
       "        text-align: right;\n",
       "    }\n",
       "</style>\n",
       "<table border=\"1\" class=\"dataframe\">\n",
       "  <thead>\n",
       "    <tr style=\"text-align: right;\">\n",
       "      <th></th>\n",
       "      <th>incident_num</th>\n",
       "      <th>address</th>\n",
       "    </tr>\n",
       "  </thead>\n",
       "  <tbody>\n",
       "  </tbody>\n",
       "</table>\n",
       "</div>"
      ],
      "text/plain": [
       "Empty DataFrame\n",
       "Columns: [incident_num, address]\n",
       "Index: []"
      ]
     },
     "execution_count": 20,
     "metadata": {},
     "output_type": "execute_result"
    }
   ],
   "source": [
    "result = connection.execute(text(\"SELECT incident_num, address from Address\"))\n",
    "column_names = result.keys()\n",
    "rows = result.fetchall()\n",
    "result_df = pd.DataFrame(rows, columns=column_names)\n",
    "Address_Book = result_df.head(100)\n",
    "Address_Book"
   ]
  },
  {
   "cell_type": "code",
   "execution_count": 21,
   "id": "88dd051f",
   "metadata": {},
   "outputs": [],
   "source": [
    "def Lat_Long(address):\n",
    "    lat, lng  = None, None\n",
    "    api_key = GOOGLE_API_KEY\n",
    "    base_url = \"https://maps.googleapis.com/maps/api/geocode/json\"\n",
    "    endpoint = f\"{base_url}?address={address}&key={api_key}\"\n",
    "    r = requests.get(endpoint)\n",
    "    if r.status_code not in range(200, 299):\n",
    "        #error\n",
    "        return None, None\n",
    "    try:\n",
    "        #found\n",
    "        results = r.json()['results'][0]\n",
    "        lat = results['geometry']['location']['lat']\n",
    "        lng = results['geometry']['location']['lng']\n",
    "        \n",
    "    except:\n",
    "        pass\n",
    "    return lat, lng\n",
    "\n",
    "def DF_GeoCode(row):\n",
    "    column_name = 'address'\n",
    "    address_value = row[column_name]\n",
    "    address_lat, address_lng = Lat_Long(address_value)\n",
    "    row['lat'] = address_lat\n",
    "    row['lng'] = address_lng\n",
    "    \n",
    "    return row"
   ]
  },
  {
   "cell_type": "code",
   "execution_count": 22,
   "id": "cc3536b3",
   "metadata": {},
   "outputs": [],
   "source": [
    "Address_Book = Address_Book.apply(DF_GeoCode, axis=1)\n",
    "Address_Book['lat'] = '0000'\n",
    "Address_Book['lng'] = '0000'"
   ]
  },
  {
   "cell_type": "code",
   "execution_count": 23,
   "id": "cab8a0e1",
   "metadata": {},
   "outputs": [],
   "source": [
    "#Lat and Long\n",
    "def Load_LL(row,cursor,table):\n",
    "    # Create a new record\n",
    "    sql = f\"\"\"INSERT INTO {table} ( incident_num,\n",
    "                                    lat,\n",
    "                                    lng\n",
    "                                    ) VALUES (%s,%s,%s)\"\"\"\n",
    "\n",
    "    # Execute the query\n",
    "    cursor.execute(sql, (row['incident_num'],\n",
    "                         row['lat'],\n",
    "                         row['lng']\n",
    "                        )\n",
    "                  )\n",
    "    cnx.commit() "
   ]
  },
  {
   "cell_type": "code",
   "execution_count": 24,
   "id": "347fb791",
   "metadata": {},
   "outputs": [
    {
     "name": "stderr",
     "output_type": "stream",
     "text": [
      "0it [00:00, ?it/s]\n"
     ]
    }
   ],
   "source": [
    "for row in tqdm(Address_Book.to_dict('records')):\n",
    "    Data_Found = Find_Data(row,\n",
    "                           cursor,\n",
    "                           'GeoLocations',\n",
    "                           'incident_num')\n",
    "\n",
    "    if Data_Found is None:\n",
    "        #If no data found load \n",
    "        Load_LL(row,\n",
    "                  cursor,\n",
    "                  'GeoLocations')\n",
    "    else:\n",
    "        pass"
   ]
  },
  {
   "cell_type": "markdown",
   "id": "263f8b31",
   "metadata": {},
   "source": [
    "### ZipCode"
   ]
  },
  {
   "cell_type": "code",
   "execution_count": 25,
   "id": "0c3e158a",
   "metadata": {},
   "outputs": [
    {
     "data": {
      "text/html": [
       "<div>\n",
       "<style scoped>\n",
       "    .dataframe tbody tr th:only-of-type {\n",
       "        vertical-align: middle;\n",
       "    }\n",
       "\n",
       "    .dataframe tbody tr th {\n",
       "        vertical-align: top;\n",
       "    }\n",
       "\n",
       "    .dataframe thead th {\n",
       "        text-align: right;\n",
       "    }\n",
       "</style>\n",
       "<table border=\"1\" class=\"dataframe\">\n",
       "  <thead>\n",
       "    <tr style=\"text-align: right;\">\n",
       "      <th></th>\n",
       "      <th>incident_num</th>\n",
       "      <th>lat</th>\n",
       "      <th>lng</th>\n",
       "    </tr>\n",
       "  </thead>\n",
       "  <tbody>\n",
       "  </tbody>\n",
       "</table>\n",
       "</div>"
      ],
      "text/plain": [
       "Empty DataFrame\n",
       "Columns: [incident_num, lat, lng]\n",
       "Index: []"
      ]
     },
     "execution_count": 25,
     "metadata": {},
     "output_type": "execute_result"
    }
   ],
   "source": [
    "result = connection.execute(text(\"SELECT incident_num,lat,lng from GeoLocations\"))\n",
    "column_names = result.keys()\n",
    "rows = result.fetchall()\n",
    "ZipCode_Book = pd.DataFrame(rows, columns=column_names)\n",
    "ZipCode_Book = ZipCode_Book.head(100)\n",
    "ZipCode_Book"
   ]
  },
  {
   "cell_type": "code",
   "execution_count": 26,
   "id": "f416077c",
   "metadata": {},
   "outputs": [],
   "source": [
    "def get_zipcode(df, geolocator, lat_field, lon_field):\n",
    "    try:\n",
    "        location = geolocator.reverse((df[lat_field], df[lon_field]))\n",
    "        result = location.raw['address']['postcode']\n",
    "    except:\n",
    "        result = None\n",
    "    return result\n"
   ]
  },
  {
   "cell_type": "code",
   "execution_count": 27,
   "id": "cc7d2b28",
   "metadata": {},
   "outputs": [],
   "source": [
    "geolocator = Nominatim(user_agent = user_agent_name)\n",
    "zipcodes = ZipCode_Book.apply(get_zipcode,\n",
    "                            axis=1,\n",
    "                            geolocator=geolocator,\n",
    "                            lat_field='lat',\n",
    "                            lon_field='lng'\n",
    "                           )"
   ]
  },
  {
   "cell_type": "code",
   "execution_count": 28,
   "id": "85b57fd6",
   "metadata": {},
   "outputs": [
    {
     "data": {
      "text/html": [
       "<div>\n",
       "<style scoped>\n",
       "    .dataframe tbody tr th:only-of-type {\n",
       "        vertical-align: middle;\n",
       "    }\n",
       "\n",
       "    .dataframe tbody tr th {\n",
       "        vertical-align: top;\n",
       "    }\n",
       "\n",
       "    .dataframe thead th {\n",
       "        text-align: right;\n",
       "    }\n",
       "</style>\n",
       "<table border=\"1\" class=\"dataframe\">\n",
       "  <thead>\n",
       "    <tr style=\"text-align: right;\">\n",
       "      <th></th>\n",
       "      <th>incident_num</th>\n",
       "      <th>lat</th>\n",
       "      <th>lng</th>\n",
       "      <th>Zipcode</th>\n",
       "    </tr>\n",
       "  </thead>\n",
       "  <tbody>\n",
       "  </tbody>\n",
       "</table>\n",
       "</div>"
      ],
      "text/plain": [
       "Empty DataFrame\n",
       "Columns: [incident_num, lat, lng, Zipcode]\n",
       "Index: []"
      ]
     },
     "execution_count": 28,
     "metadata": {},
     "output_type": "execute_result"
    }
   ],
   "source": [
    "ZipCode_Book['Zipcode'] = zipcodes\n",
    "ZipCode_Book"
   ]
  },
  {
   "cell_type": "code",
   "execution_count": 29,
   "id": "8cff5b31",
   "metadata": {},
   "outputs": [],
   "source": [
    "#Lat and Long\n",
    "def Load_Zipcode(row,cursor,table):\n",
    "    # Create a new record\n",
    "    sql = f\"\"\"INSERT INTO {table} ( incident_num,\n",
    "                                    Zipcode\n",
    "                                    ) VALUES (%s,%s)\"\"\"\n",
    "\n",
    "    # Execute the query\n",
    "    cursor.execute(sql, (row['incident_num'],\n",
    "                         row['Zipcode']\n",
    "                        )\n",
    "                  )\n",
    "    cnx.commit() "
   ]
  },
  {
   "cell_type": "code",
   "execution_count": 30,
   "id": "dab55ed1",
   "metadata": {},
   "outputs": [
    {
     "name": "stderr",
     "output_type": "stream",
     "text": [
      "0it [00:00, ?it/s]\n"
     ]
    }
   ],
   "source": [
    "for row in tqdm(ZipCode_Book.to_dict('records')):\n",
    "    Data_Found = Find_Data(row,\n",
    "                           cursor,\n",
    "                           'Zipcodes',\n",
    "                           'incident_num')\n",
    "\n",
    "    if Data_Found is None:\n",
    "        #If no data found load \n",
    "        Load_Zipcode(row,\n",
    "                  cursor,\n",
    "                  'Zipcodes')\n",
    "    else:\n",
    "        pass"
   ]
  }
 ],
 "metadata": {
  "kernelspec": {
   "display_name": "Python 3 (ipykernel)",
   "language": "python",
   "name": "python3"
  },
  "language_info": {
   "codemirror_mode": {
    "name": "ipython",
    "version": 3
   },
   "file_extension": ".py",
   "mimetype": "text/x-python",
   "name": "python",
   "nbconvert_exporter": "python",
   "pygments_lexer": "ipython3",
   "version": "3.11.4"
  },
  "vscode": {
   "interpreter": {
    "hash": "0ef5d9f35388f8c88faeaf99258300a6eb5163f5b80295556c9ff085caaec583"
   }
  }
 },
 "nbformat": 4,
 "nbformat_minor": 5
}
