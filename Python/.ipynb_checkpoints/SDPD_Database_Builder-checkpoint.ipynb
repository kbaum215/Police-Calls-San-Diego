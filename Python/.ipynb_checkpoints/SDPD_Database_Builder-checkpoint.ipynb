{
 "cells": [
  {
   "cell_type": "markdown",
   "id": "4769e1e5-8156-4361-97f2-d6c130001104",
   "metadata": {},
   "source": [
    "# Purpose\n",
    "\n",
    "#### The purpose of this file is to build the database in MySQL. Both tables and views are built with SQL."
   ]
  },
  {
   "cell_type": "markdown",
   "id": "93c556f3-1823-4e03-a860-ad7ec5dfe4dd",
   "metadata": {},
   "source": [
    "test"
   ]
  },
  {
   "cell_type": "code",
   "execution_count": 1,
   "id": "d33740d0",
   "metadata": {},
   "outputs": [],
   "source": [
    "#Libraries\n",
    "import mysql.connector\n",
    "from mysql.connector import errorcode"
   ]
  },
  {
   "cell_type": "markdown",
   "id": "5409bdfc",
   "metadata": {},
   "source": [
    "## Making the Initial Connection"
   ]
  },
  {
   "cell_type": "markdown",
   "id": "1da8c13f-e51a-42ff-b586-fe639f737574",
   "metadata": {},
   "source": [
    "We need to set up the parameter names to connect to MySQL and define the name we want to call our database."
   ]
  },
  {
   "cell_type": "code",
   "execution_count": 2,
   "id": "5594a0db",
   "metadata": {},
   "outputs": [],
   "source": [
    "user = 'root'\n",
    "password = 'WireTent8!'\n",
    "host = 'localhost'\n",
    "database = 'San_Diego_PD_Calls'"
   ]
  },
  {
   "cell_type": "markdown",
   "id": "ab9523a1-0049-47cd-ba00-b28629a0570e",
   "metadata": {},
   "source": [
    "This establishes a connection to the MySQL server without specifying a database and creates a cursor object for executing SQL commands."
   ]
  },
  {
   "cell_type": "code",
   "execution_count": 3,
   "id": "7c6349d2",
   "metadata": {},
   "outputs": [],
   "source": [
    "#Initial Connection\n",
    "cnx = mysql.connector.connect(user=user,\n",
    "                              password=password,\n",
    "                              host=host,\n",
    "                              )\n",
    "cursor = cnx.cursor()"
   ]
  },
  {
   "cell_type": "markdown",
   "id": "b90e3cd4",
   "metadata": {},
   "source": [
    "## Setting Up the Database"
   ]
  },
  {
   "cell_type": "markdown",
   "id": "b75483ff-b802-4191-9d36-6dcb6207ea24",
   "metadata": {},
   "source": [
    "We define a function called \"create_DB\" to build the database if needed (in other words, if a user is running this for the first time)."
   ]
  },
  {
   "cell_type": "code",
   "execution_count": 4,
   "id": "72aa2845",
   "metadata": {},
   "outputs": [],
   "source": [
    "def create_DB(cursor):\n",
    "    try:\n",
    "        cursor.execute(\n",
    "            \"CREATE DATABASE {} DEFAULT CHARACTER SET 'utf8'\".format(database))\n",
    "    except mysql.connector.Error as err:\n",
    "        print(\"Failed creating database: {}\".format(err))\n",
    "        exit(1)"
   ]
  },
  {
   "cell_type": "markdown",
   "id": "0986de65-4e1e-4fb9-aaa9-d053b4ea3b69",
   "metadata": {},
   "source": [
    "Next, we use a try/except block to either use the existing database or execute the create_DB function to build it."
   ]
  },
  {
   "cell_type": "code",
   "execution_count": 5,
   "id": "115f9f61-01ed-4edc-9a5e-f6335f6ee135",
   "metadata": {},
   "outputs": [
    {
     "name": "stdout",
     "output_type": "stream",
     "text": [
      "Using San_Diego_PD_Calls\n"
     ]
    }
   ],
   "source": [
    "try:\n",
    "    cursor.execute(\"USE {}\".format(database))\n",
    "    print(\"Using {}\".format(database))\n",
    "except mysql.connector.Error as err:\n",
    "    print(\"Database {} does not exists. Will Create\".format(database))\n",
    "    if err.errno == errorcode.ER_BAD_DB_ERROR:\n",
    "        Create_DB(cursor)\n",
    "        print(\"Database {} created successfully.\".format(database))\n",
    "        cnx.database = database\n",
    "    else:\n",
    "        print(err)\n",
    "        exit(1)"
   ]
  },
  {
   "cell_type": "markdown",
   "id": "63f054b1",
   "metadata": {},
   "source": [
    "# Tables"
   ]
  },
  {
   "cell_type": "code",
   "execution_count": 6,
   "id": "1543a6ab",
   "metadata": {},
   "outputs": [],
   "source": [
    "#initiate dictionary\n",
    "TABLES = {}\n",
    "\n",
    "#Add tables\n",
    "TABLES['Days'] = (\n",
    "    \"\"\"\n",
    "    CREATE TABLE `Days` (\n",
    "        `day_of_week` enum('1','2','3','4','5','6','7') NOT NULL,\n",
    "        `day` varchar(9) NOT NULL,\n",
    "    PRIMARY KEY (`day_of_week`)\n",
    "    )\n",
    "    \"\"\"\n",
    ")\n",
    "\n",
    "TABLES['Beats'] = (\n",
    "    \"\"\"\n",
    "    CREATE TABLE `beats` (\n",
    "        `beat` smallint NOT NULL,\n",
    "        `neighborhood` varchar(25) NOT NULL,\n",
    "    PRIMARY KEY (`beat`), \n",
    "    UNIQUE KEY `neighborhood` (`neighborhood`)\n",
    "    ) \n",
    "    \"\"\"\n",
    ")\n",
    "\n",
    "TABLES['Dispositions'] = (\n",
    "    \"\"\"\n",
    "    CREATE TABLE `dispositions` (\n",
    "        `dispo_code` varchar(3) NOT NULL,\n",
    "        `description` tinytext NOT NULL,\n",
    "    PRIMARY KEY (`dispo_code`)\n",
    "    ) \n",
    "    \"\"\"\n",
    ")\n",
    "\n",
    "TABLES['Call_type'] = (\n",
    "    \"\"\"\n",
    "    CREATE TABLE `call_types` (\n",
    "        `call_type` varchar(10) NULL,\n",
    "        `description` tinytext NOT NULL\n",
    "    ) \n",
    "    \"\"\"\n",
    ")\n",
    "\n",
    "TABLES['ServiceCalls'] = (\n",
    "    \"\"\"\n",
    "    CREATE TABLE `service_calls` (\n",
    "        `incident_num` varchar(13) NOT NULL,\n",
    "        `incident_date_time` datetime NOT NULL,\n",
    "        `call_type` varchar(10) NULL,\n",
    "        `dispo_code` varchar(3) NULL,\n",
    "        `beat` smallint NOT NULL,\n",
    "        `priority` tinyint NOT NULL,\n",
    "        `incident_year` year NOT NULL,\n",
    "    PRIMARY KEY (`incident_num`),\n",
    "    CONSTRAINT `service_calls_beat` FOREIGN KEY (`beat`)\n",
    "    REFERENCES `beats` (`beat`),\n",
    "    CONSTRAINT `service_calls_dispo` FOREIGN KEY (`dispo_code`)\n",
    "    REFERENCES `dispositions` (`dispo_code`)\n",
    "    ) \n",
    "    \"\"\"\n",
    ")\n",
    "\n",
    "TABLES['Address'] = (\n",
    "    \"\"\"\n",
    "    CREATE TABLE `address` (\n",
    "        `incident_num` varchar(13) NOT NULL,\n",
    "        `address_number_primary` int(8)  NULL,\n",
    "        `address_dir_primary` varchar(10)  NULL,\n",
    "        `address_road_primary` varchar(40) NULL,\n",
    "        `address_sfx_primary` varchar(10) NULL,\n",
    "        `address_dir_intersecting` varchar(10) NULL,\n",
    "        `address_road_intersecting` varchar(40) NULL,\n",
    "        `address_sfx_intersecting` varchar(10) NULL,\n",
    "        `address` varchar(80) NOT NULL,\n",
    "    PRIMARY KEY (`incident_num`),\n",
    "    CONSTRAINT `address_ibfk_1` \n",
    "    FOREIGN KEY (`incident_num`)\n",
    "    REFERENCES `service_calls` (`incident_num`)\n",
    "    ) \n",
    "    \"\"\"\n",
    ")\n",
    "\n",
    "TABLES['GeoLocations'] = (\n",
    "    \"\"\"\n",
    "    CREATE TABLE `geolocations` (\n",
    "        `incident_num` varchar(13) NOT NULL,\n",
    "        `lat` Decimal(8,6) NOT NULL,\n",
    "        `lng` Decimal(9,6) NOT NULL,\n",
    "    PRIMARY KEY (`incident_num`),\n",
    "    CONSTRAINT `geolocations_ibfk_1` FOREIGN KEY (`incident_num`)\n",
    "    REFERENCES `service_calls` (`incident_num`)\n",
    "    ) \n",
    "    \"\"\"\n",
    ")\n",
    "\n",
    "TABLES['Zipcodes'] = (\n",
    "    \"\"\"\n",
    "    CREATE TABLE `zipcodes` (\n",
    "        `incident_num` varchar(13) NOT NULL,\n",
    "        `Zipcode` MEDIUMINT(5) NOT NULL,\n",
    "    PRIMARY KEY (`incident_num`),\n",
    "    CONSTRAINT `zipcodes_ibfk_1` \n",
    "    FOREIGN KEY (`incident_num`)\n",
    "    REFERENCES `service_calls` (`incident_num`)\n",
    "    ) \n",
    "    \"\"\"\n",
    ")\n",
    "\n"
   ]
  },
  {
   "cell_type": "code",
   "execution_count": 7,
   "id": "012e2a81",
   "metadata": {},
   "outputs": [
    {
     "name": "stdout",
     "output_type": "stream",
     "text": [
      "Creating table Days: already exists.\n",
      "Creating table Beats: already exists.\n",
      "Creating table Dispositions: already exists.\n",
      "Creating table Call_type: already exists.\n",
      "Creating table ServiceCalls: already exists.\n",
      "Creating table Address: already exists.\n",
      "Creating table GeoLocations: already exists.\n",
      "Creating table Zipcodes: already exists.\n"
     ]
    }
   ],
   "source": [
    "cursor = cnx.cursor()\n",
    "\n",
    "for table_name in TABLES:\n",
    "    table_description = TABLES[table_name]\n",
    "    try:\n",
    "        print(\"Creating table {}: \".format(table_name), end='')\n",
    "        cursor.execute(table_description)\n",
    "    except mysql.connector.Error as err:\n",
    "        if err.errno == errorcode.ER_TABLE_EXISTS_ERROR:\n",
    "            print(\"already exists.\")\n",
    "        else:\n",
    "            print(err.msg)\n",
    "    else:\n",
    "        print(\"Table has been created.\")"
   ]
  },
  {
   "cell_type": "markdown",
   "id": "8d63511a",
   "metadata": {},
   "source": [
    "# Views"
   ]
  },
  {
   "cell_type": "code",
   "execution_count": 8,
   "id": "6c3b15bd",
   "metadata": {},
   "outputs": [],
   "source": [
    "#initiate dictionary\n",
    "VIEWS = {}\n",
    "\n",
    "#Add VIEWS\n",
    "VIEWS['Calls_Per_Day_By_Reason_Dispo_Beat'] = (\n",
    "    \"\"\"\n",
    "    CREATE VIEW `calls_per_day_reason_disposition_beat` AS ( \n",
    "        SELECT \n",
    "            DATE(SC.INCIDENT_DATE_TIME) AS Incident_Date, \n",
    "            CT.DESCRIPTION AS Reason_For_Call, \n",
    "            D.DESCRIPTION AS Disposition, \n",
    "            B.NEIGHBORHOOD AS Beat, \n",
    "            COUNT(*) AS Total_Incidents \n",
    "        FROM \n",
    "            service_calls SC \n",
    "        INNER JOIN \n",
    "            call_types CT \n",
    "        ON \n",
    "            SC.call_type = CT.CALL_TYPE \n",
    "        INNER JOIN \n",
    "            dispositions D \n",
    "        ON \n",
    "            SC.DISPO_CODE = D.DISPO_CODE \n",
    "        INNER JOIN \n",
    "            beats B \n",
    "        ON \n",
    "            SC.BEAT = B.BEAT \n",
    "        GROUP BY \n",
    "            DATE(SC.INCIDENT_DATE_TIME), \n",
    "            CT.DESCRIPTION, \n",
    "            D.DESCRIPTION, \n",
    "            B.NEIGHBORHOOD \n",
    "    ) \n",
    "    \"\"\"\n",
    ")\n",
    "\n",
    "\n",
    "VIEWS['CallsPerZipCode'] = (\n",
    "    \"\"\"\n",
    "    CREATE VIEW `calls_per_zipCode` AS ( \n",
    "        SELECT \n",
    "            ZC.ZIPCODE, \n",
    "            COUNT(*) AS CALLSPERZIPCODE \n",
    "        FROM \n",
    "            service_calls SC \n",
    "        INNER JOIN \n",
    "            zipcodes ZC \n",
    "        ON \n",
    "            SC.INCIDENT_NUM = ZC.INCIDENT_NUM \n",
    "        GROUP BY \n",
    "            ZC.ZIPCODE \n",
    "    ) \n",
    "    \"\"\"\n",
    ")\n",
    "\n",
    "VIEWS['CallTypesPerZipCode'] = (\n",
    "    \"\"\"\n",
    "    CREATE VIEW `call_typess_per_zipcode` AS ( \n",
    "        SELECT \n",
    "            ZC.ZIPCODE, \n",
    "            COUNT(DISTINCT SC.CALL_TYPE) AS CALLTYPESSPERZIPCODE \n",
    "        FROM \n",
    "            service_calls SC \n",
    "        INNER JOIN \n",
    "            zipcodes ZC \n",
    "        ON \n",
    "            SC.INCIDENT_NUM = ZC.INCIDENT_NUM \n",
    "        GROUP BY \n",
    "            ZC.ZIPCODE \n",
    "    ) \n",
    "    \"\"\"\n",
    ")\n",
    "\n",
    "VIEWS['CallsByBeats'] = (\n",
    "    \"\"\"\n",
    "    CREATE VIEW `calls_beats` AS ( \n",
    "        SELECT \n",
    "            B.NEIGHBORHOOD AS Beat, \n",
    "            COUNT(DISTINCT SC.INCIDENT_NUM) AS CALLSPERBEAT \n",
    "        FROM \n",
    "            service_calls SC \n",
    "        INNER JOIN \n",
    "            beats B \n",
    "        ON \n",
    "            SC.BEAT = B.BEAT \n",
    "        GROUP BY \n",
    "            B.NEIGHBORHOOD \n",
    "    ) \n",
    "    \"\"\"\n",
    ")\n",
    "\n",
    "VIEWS['CallsByCallType'] = (\n",
    "    \"\"\"\n",
    "    CREATE VIEW `calls_callyype` AS ( \n",
    "        SELECT \n",
    "            CT.DESCRIPTION AS CALL_TYPE, \n",
    "            COUNT(DISTINCT SC.INCIDENT_NUM) AS CALLSPERCALLTYPE \n",
    "        FROM \n",
    "            service_calls SC \n",
    "        INNER JOIN \n",
    "            call_types CT \n",
    "        ON \n",
    "            SC.CALL_TYPE = CT.CALL_TYPE \n",
    "        GROUP BY \n",
    "            CT.DESCRIPTION \n",
    "    ) \n",
    "    \"\"\"\n",
    ")\n",
    "\n",
    "VIEWS['CallsByDispositionCode'] = (\n",
    "    \"\"\"\n",
    "    CREATE VIEW `calls_dispo` AS ( \n",
    "        SELECT \n",
    "            D.DESCRIPTION AS DISPOSITION, \n",
    "            COUNT(DISTINCT SC.INCIDENT_NUM) AS CALLSPERDISPOSITION \n",
    "        FROM \n",
    "            service_calls SC \n",
    "        INNER JOIN \n",
    "            dispositions D \n",
    "        ON \n",
    "            SC.DISPO_CODE = D.DISPO_CODE \n",
    "        GROUP BY \n",
    "            D.DESCRIPTION \n",
    "    )\n",
    "    \"\"\"\n",
    ")"
   ]
  },
  {
   "cell_type": "code",
   "execution_count": 9,
   "id": "ac0fc2f9",
   "metadata": {},
   "outputs": [
    {
     "name": "stdout",
     "output_type": "stream",
     "text": [
      "Creating view Calls_Per_Day_By_Reason_Dispo_Beat: already exists.\n",
      "Creating view CallsPerZipCode: already exists.\n",
      "Creating view CallTypesPerZipCode: already exists.\n",
      "Creating view CallsByBeats: already exists.\n",
      "Creating view CallsByCallType: already exists.\n",
      "Creating view CallsByDispositionCode: already exists.\n"
     ]
    }
   ],
   "source": [
    "for view_name in VIEWS:\n",
    "    view_description = VIEWS[view_name]\n",
    "    try:\n",
    "        print(\"Creating view {}: \".format(view_name), end='')\n",
    "        cursor.execute(view_description)\n",
    "    except mysql.connector.Error as err:\n",
    "        if err.errno == errorcode.ER_TABLE_EXISTS_ERROR:\n",
    "            print(\"already exists.\")\n",
    "        else:\n",
    "            print(err.msg)\n",
    "    else:\n",
    "        print(\"View has been created.\")"
   ]
  },
  {
   "cell_type": "code",
   "execution_count": 10,
   "id": "c4df3432",
   "metadata": {},
   "outputs": [],
   "source": [
    "cursor.close()\n",
    "cnx.close()"
   ]
  }
 ],
 "metadata": {
  "kernelspec": {
   "display_name": "Python 3 (ipykernel)",
   "language": "python",
   "name": "python3"
  },
  "language_info": {
   "codemirror_mode": {
    "name": "ipython",
    "version": 3
   },
   "file_extension": ".py",
   "mimetype": "text/x-python",
   "name": "python",
   "nbconvert_exporter": "python",
   "pygments_lexer": "ipython3",
   "version": "3.11.4"
  }
 },
 "nbformat": 4,
 "nbformat_minor": 5
}
